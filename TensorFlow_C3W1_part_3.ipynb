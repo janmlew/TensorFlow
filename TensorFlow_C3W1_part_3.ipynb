{
  "nbformat": 4,
  "nbformat_minor": 0,
  "metadata": {
    "colab": {
      "provenance": [],
      "authorship_tag": "ABX9TyMakLRp/hNeQHbGdf7J81Sr",
      "include_colab_link": true
    },
    "kernelspec": {
      "name": "python3",
      "display_name": "Python 3"
    },
    "language_info": {
      "name": "python"
    }
  },
  "cells": [
    {
      "cell_type": "markdown",
      "metadata": {
        "id": "view-in-github",
        "colab_type": "text"
      },
      "source": [
        "<a href=\"https://colab.research.google.com/github/janmlew/TensorFlow/blob/master/TensorFlow_C3W1_part_3.ipynb\" target=\"_parent\"><img src=\"https://colab.research.google.com/assets/colab-badge.svg\" alt=\"Open In Colab\"/></a>"
      ]
    },
    {
      "cell_type": "markdown",
      "source": [
        "# Ungraded Lab: Tokenizing the Sarcasm Dataset\n",
        "In this lab, you will be applying what you've learned in the past two exercises to preprocess the [News Headlines Dataset for Sarcasm Detection](https://www.kaggle.com/rmisra/news-headlines-dataset-for-sarcasm-detection/home). This contains news headlines which are labeled as sarcastic or not. You will revisit this dataset in later labs so it is good to be acquainted with it now.\n",
        "\n",
        "# Download and inspect the dataset\n",
        "First, you will fetch the dataset and preview some of its elements."
      ],
      "metadata": {
        "id": "LCSypdJ69hHD"
      }
    },
    {
      "cell_type": "code",
      "source": [
        "# Download the dataset\n",
        "!wget https://storage.googleapis.com/tensorflow-1-public/course3/sarcasm.json"
      ],
      "metadata": {
        "id": "kRqFSaf290Ww"
      },
      "execution_count": null,
      "outputs": []
    },
    {
      "cell_type": "markdown",
      "source": [
        "The dataset is saved as a [JSON](https://www.json.org/json-en.html) file and you can use Python's json module to load it into your workspace. The cell below unpacks the JSON file into a list."
      ],
      "metadata": {
        "id": "nOgz-2Gz-Bup"
      }
    },
    {
      "cell_type": "code",
      "source": [
        "import json\n",
        "\n",
        "# Load the JSON file\n",
        "with open(\"./sarcasm.json\", 'r') as f:\n",
        "    datastore = json.load(f)"
      ],
      "metadata": {
        "id": "81kEF03p-J2R"
      },
      "execution_count": null,
      "outputs": []
    },
    {
      "cell_type": "markdown",
      "source": [
        "You can inspect a few of the elements in the list. You will notice that each element consists of a dictionary with a URL link, the actual headline, and a label named is_sarcastic. Printed below are two elements with contrasting labels."
      ],
      "metadata": {
        "id": "MDlDJtGF-MgS"
      }
    },
    {
      "cell_type": "code",
      "source": [
        "# Non-sarcastic headline\n",
        "print(datastore[0])\n",
        "\n",
        "# Sarcastic headline\n",
        "print(datastore[20000])"
      ],
      "metadata": {
        "id": "yetY8iNN-MFv"
      },
      "execution_count": null,
      "outputs": []
    },
    {
      "cell_type": "markdown",
      "source": [
        "With that, you can collect all urls, headlines, and labels for easier processing when using the tokenizer. For this lab, you will only need the headlines but we included the code to collect the URLs and labels as well."
      ],
      "metadata": {
        "id": "zCZAJyXI-P7f"
      }
    },
    {
      "cell_type": "code",
      "source": [
        "# Initialize lists\n",
        "sentences = []\n",
        "labels = []\n",
        "urls = []\n",
        "\n",
        "# Append elements in the dictionaries into each list\n",
        "for item in datastore:\n",
        "    sentences.append(item['headline'])\n",
        "    labels.append(item['is_sarcastic'])\n",
        "    urls.append(item['article_link'])"
      ],
      "metadata": {
        "id": "ER0Daln9-TnV"
      },
      "execution_count": null,
      "outputs": []
    },
    {
      "cell_type": "markdown",
      "source": [
        "# Preprocessing the headlines\n",
        "You can convert the sentences list above into padded sequences by using the same methods you've been using in the past exercises. The cell below generates the word_index dictionary and generates the list of padded sequences for each of the 26,709 headlines."
      ],
      "metadata": {
        "id": "_E7ewznM-UUY"
      }
    },
    {
      "cell_type": "code",
      "source": [
        "from tensorflow.keras.preprocessing.text import Tokenizer\n",
        "from tensorflow.keras.preprocessing.sequence import pad_sequences\n",
        "\n",
        "# Initialize the Tokenizer class\n",
        "tokenizer = Tokenizer(oov_token=\"<OOV>\")\n",
        "\n",
        "# Generate the word index dictionary\n",
        "tokenizer.fit_on_texts(sentences)\n",
        "\n",
        "# Print the length of the word index\n",
        "word_index = tokenizer.word_index\n",
        "print(f'number of words in word_index: {len(word_index)}')\n",
        "\n",
        "# Print the word index\n",
        "print(f'word_index: {word_index}')\n",
        "print()\n",
        "\n",
        "# Generate and pad the sequences\n",
        "sequences = tokenizer.texts_to_sequences(sentences)\n",
        "padded = pad_sequences(sequences, padding='post')\n",
        "\n",
        "# Print a sample headline\n",
        "index = 2\n",
        "print(f'sample headline: {sentences[index]}')\n",
        "print(f'padded sequence: {padded[index]}')\n",
        "print()\n",
        "\n",
        "# Print dimensions of padded sequences\n",
        "print(f'shape of padded sequences: {padded.shape}')"
      ],
      "metadata": {
        "id": "LbnPJp27-aHu"
      },
      "execution_count": null,
      "outputs": []
    },
    {
      "cell_type": "markdown",
      "source": [
        "This concludes the short demo on using text data preprocessing APIs on a relatively large dataset. Next week, you will start building models that can be trained on these output sequences. See you there!"
      ],
      "metadata": {
        "id": "ixntyZeO-caT"
      }
    }
  ]
}