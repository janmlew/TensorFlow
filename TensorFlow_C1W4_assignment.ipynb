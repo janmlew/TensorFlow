{
  "nbformat": 4,
  "nbformat_minor": 0,
  "metadata": {
    "colab": {
      "provenance": [],
      "gpuType": "T4",
      "authorship_tag": "ABX9TyOpm337KmaHUcGcuFnriwsI",
      "include_colab_link": true
    },
    "kernelspec": {
      "name": "python3",
      "display_name": "Python 3"
    },
    "language_info": {
      "name": "python"
    },
    "accelerator": "GPU"
  },
  "cells": [
    {
      "cell_type": "markdown",
      "metadata": {
        "id": "view-in-github",
        "colab_type": "text"
      },
      "source": [
        "<a href=\"https://colab.research.google.com/github/janmlew/TensorFlow/blob/master/TensorFlow_C1W4_assignment.ipynb\" target=\"_parent\"><img src=\"https://colab.research.google.com/assets/colab-badge.svg\" alt=\"Open In Colab\"/></a>"
      ]
    },
    {
      "cell_type": "markdown",
      "source": [
        "# Week 4: Handling Complex Images - Happy or Sad Dataset\n",
        "In this assignment you will be using the happy or sad dataset, which contains 80 images of emoji-like faces, 40 happy and 40 sad.\n",
        "\n",
        "Create a convolutional neural network that trains to 99.9% accuracy on these images, which cancels training upon hitting this training accuracy threshold."
      ],
      "metadata": {
        "id": "SWm-dZeSTOD5"
      }
    },
    {
      "cell_type": "code",
      "source": [
        "import matplotlib.pyplot as plt\n",
        "import tensorflow as tf\n",
        "import numpy as np\n",
        "import os\n",
        "from tensorflow.keras.preprocessing.image import load_img, img_to_array, ImageDataGenerator\n",
        "from tensorflow.keras import optimizers, losses\n",
        "import base64"
      ],
      "metadata": {
        "id": "Gs401Bdod_kU"
      },
      "execution_count": null,
      "outputs": []
    },
    {
      "cell_type": "markdown",
      "source": [
        "# Load and explore the data\n",
        "Begin by taking a look at some images of the dataset.\n",
        "\n",
        "Notice that all the images are contained within the ./data/ directory.\n",
        "\n",
        "This directory contains two subdirectories happy/ and sad/ and each image is saved under the subdirectory related to the class it belongs to."
      ],
      "metadata": {
        "id": "_bEdXGcyyR-y"
      }
    },
    {
      "cell_type": "code",
      "source": [
        "base_dir = \"./data/\"\n",
        "happy_dir = os.path.join(base_dir, \"happy/\")\n",
        "sad_dir = os.path.join(base_dir, \"sad/\")\n",
        "\n",
        "print(\"Sample happy image:\")\n",
        "plt.imshow(load_img(f\"{os.path.join(happy_dir, os.listdir(happy_dir)[0])}\"))\n",
        "plt.show()\n",
        "\n",
        "print(\"\\nSample sad image:\")\n",
        "plt.imshow(load_img(f\"{os.path.join(sad_dir, os.listdir(sad_dir)[0])}\"))\n",
        "plt.show()"
      ],
      "metadata": {
        "id": "oZnpEJc8yUWe"
      },
      "execution_count": null,
      "outputs": []
    },
    {
      "cell_type": "markdown",
      "source": [
        "It is cool to be able to see examples of the images to better understand the problem-space you are dealing with.\n",
        "\n",
        "However there is still some relevant information that is missing such as the resolution of the image (although matplotlib renders the images in a grid providing a good idea of these values) and the maximum pixel value (this is important for normalizing these values). For this you can use Keras as shown in the next cell:"
      ],
      "metadata": {
        "id": "jiKoD4PPyWxr"
      }
    },
    {
      "cell_type": "code",
      "source": [
        "# Load the first example of a happy face\n",
        "sample_image  = load_img(f\"{os.path.join(happy_dir, os.listdir(happy_dir)[0])}\")\n",
        "\n",
        "# Convert the image into its numpy array representation\n",
        "sample_array = img_to_array(sample_image)\n",
        "\n",
        "print(f\"Each image has shape: {sample_array.shape}\")\n",
        "\n",
        "print(f\"The maximum pixel value used is: {np.max(sample_array)}\")"
      ],
      "metadata": {
        "id": "IzgnV-JeyXXC"
      },
      "execution_count": null,
      "outputs": []
    },
    {
      "cell_type": "markdown",
      "source": [
        "Looks like the images have a resolution of 150x150. **This is very important because this will be the input size of the first layer in your network.**\n",
        "\n",
        "**The last dimension refers to each one of the 3 RGB channels that are used to represent colored images.**\n",
        "\n",
        "# Defining the callback\n",
        "Since you already have coded the callback responsible for stopping training (once a desired level of accuracy is reached) in the previous two assignments this time it is already provided so you can focus on the other steps:"
      ],
      "metadata": {
        "id": "yKu19MzIyfMs"
      }
    },
    {
      "cell_type": "code",
      "source": [
        "class myCallback(tf.keras.callbacks.Callback):\n",
        "    def on_epoch_end(self, epoch, logs={}):\n",
        "        if logs.get('accuracy') is not None and logs.get('accuracy') > 0.999:\n",
        "            print(\"\\nReached 99.9% accuracy so cancelling training!\")\n",
        "            self.model.stop_training = True"
      ],
      "metadata": {
        "id": "u0fUJpViylYR"
      },
      "execution_count": null,
      "outputs": []
    },
    {
      "cell_type": "markdown",
      "source": [
        "A quick note on callbacks:\n",
        "\n",
        "So far you have used only the on_epoch_end callback but there are many more. For example you might want to check out the [EarlyStopping](https://www.tensorflow.org/api_docs/python/tf/keras/callbacks/EarlyStopping) callback, which allows you to save the best weights for your model.\n",
        "\n",
        "# Pre-processing the data\n",
        "Keras provides great support for preprocessing image data. A lot can be accomplished by using the ImageDataGenerator class. Be sure to check out the [docs](https://www.tensorflow.org/api_docs/python/tf/keras/preprocessing/image/ImageDataGenerator) if you get stuck in the next exercise. In particular you might want to pay attention to the rescale argument when instantiating the ImageDataGenerator and to the flow_from_directory method."
      ],
      "metadata": {
        "id": "idX76lBWym59"
      }
    },
    {
      "cell_type": "code",
      "source": [
        "# GRADED FUNCTION: image_generator\n",
        "def image_generator():\n",
        "    ### START CODE HERE\n",
        "\n",
        "    # Instantiate the ImageDataGenerator class.\n",
        "    # Remember to set the rescale argument.\n",
        "    train_datagen = None\n",
        "\n",
        "    # Specify the method to load images from a directory and pass in the appropriate arguments:\n",
        "    # - directory: should be a relative path to the directory containing the data\n",
        "    # - targe_size: set this equal to the resolution of each image (excluding the color dimension)\n",
        "    # - batch_size: number of images the generator yields when asked for a next batch. Set this to 10.\n",
        "    # - class_mode: How the labels are represented. Should be one of \"binary\", \"categorical\" or \"sparse\".\n",
        "    #               Pick the one that better suits here given that the labels are going to be 1D binary labels.\n",
        "    train_generator = train_datagen.flow_from_directory(directory=None,\n",
        "                                                        target_size=(None, None),\n",
        "                                                        batch_size=None,\n",
        "                                                        class_mode=None)\n",
        "    ### END CODE HERE\n",
        "\n",
        "    return train_generator"
      ],
      "metadata": {
        "id": "gTQl45MJzHa-"
      },
      "execution_count": null,
      "outputs": []
    },
    {
      "cell_type": "code",
      "source": [
        "# Save your generator in a variable\n",
        "gen = image_generator()"
      ],
      "metadata": {
        "id": "-9SrQp5pzJr1"
      },
      "execution_count": null,
      "outputs": []
    },
    {
      "cell_type": "markdown",
      "source": [
        "**Expected Output:**\n",
        "\n",
        "> Found 80 images belonging to 2 classes.\n",
        "\n",
        "# Creating and training your model\n",
        "Finally, complete the train_happy_sad_model function below. This function should return your neural network.\n",
        "\n",
        "**Your model should achieve an accuracy of 99.9% or more before 15 epochs to pass this assignment.**\n",
        "\n",
        "**Hints:**\n",
        "\n",
        "* You can try any architecture for the network but keep in mind that the model will work best with 3 convolutional layers.\n",
        "* In case you need extra help you can check out some tips at the end of this notebook."
      ],
      "metadata": {
        "id": "CBKO096lzMeZ"
      }
    },
    {
      "cell_type": "code",
      "source": [
        "# GRADED FUNCTION: train_happy_sad_model\n",
        "def train_happy_sad_model(train_generator):\n",
        "\n",
        "    # Instantiate the callback\n",
        "    callbacks = myCallback()\n",
        "\n",
        "    ### START CODE HERE\n",
        "\n",
        "    # Define the model\n",
        "    model = tf.keras.models.Sequential([\n",
        "        None,\n",
        "    ])\n",
        "\n",
        "    # Compile the model\n",
        "    # Select a loss function compatible with the last layer of your network\n",
        "    model.compile(loss=losses.None,\n",
        "                  optimizer=optimizers.None,\n",
        "                  metrics=['accuracy'])\n",
        "\n",
        "\n",
        "\n",
        "    # Train the model\n",
        "    # Your model should achieve the desired accuracy in less than 15 epochs.\n",
        "    # You can hardcode up to 20 epochs in the function below but the callback should trigger before 15.\n",
        "    history = model.fit(x=None,\n",
        "                        epochs=None,\n",
        "                        callbacks=[None]\n",
        "                       )\n",
        "\n",
        "    ### END CODE HERE\n",
        "    return history"
      ],
      "metadata": {
        "id": "EqGWtTo9zaMt"
      },
      "execution_count": null,
      "outputs": []
    },
    {
      "cell_type": "code",
      "source": [
        "hist = train_happy_sad_model(gen)"
      ],
      "metadata": {
        "id": "DN48JMuPzbr4"
      },
      "execution_count": null,
      "outputs": []
    },
    {
      "cell_type": "markdown",
      "source": [
        "If you see the message that was defined in the callback printed out after less than 15 epochs it means your callback worked as expected and training was successful. You can also double check by running the following cell:"
      ],
      "metadata": {
        "id": "AfM9HdQCzdlt"
      }
    },
    {
      "cell_type": "code",
      "source": [
        "print(f\"Your model reached the desired accuracy after {len(hist.epoch)} epochs\")"
      ],
      "metadata": {
        "id": "XtfaEi2-zfG8"
      },
      "execution_count": null,
      "outputs": []
    },
    {
      "cell_type": "markdown",
      "source": [
        "If your callback didn't stop training, one cause might be that you compiled your model using a metric other than accuracy (such as acc). Make sure you set the metric to accuracy. You can check by running the following cell:"
      ],
      "metadata": {
        "id": "0-GJ7sP8zhMb"
      }
    },
    {
      "cell_type": "code",
      "source": [
        "if not \"accuracy\" in hist.model.metrics_names:\n",
        "    print(\"Use 'accuracy' as metric when compiling your model.\")\n",
        "else:\n",
        "    print(\"The metric was correctly defined.\")"
      ],
      "metadata": {
        "id": "xJ2Cb_i8zidh"
      },
      "execution_count": null,
      "outputs": []
    },
    {
      "cell_type": "markdown",
      "source": [
        "# Need more help?\n",
        "Run the following cell to see some extra tips for the model's architecture."
      ],
      "metadata": {
        "id": "gwEnWcO-zkMk"
      }
    },
    {
      "cell_type": "code",
      "source": [
        "encoded_answer = \"ClNvbWUgaGVscGZ1bCB0aXBzIGluIGNhc2UgeW91IGFyZSBzdHVjazoKCiAgICAtIEEgZ29vZCBmaXJzdCBsYXllciB3b3VsZCBiZSBhIENvbnYyRCBsYXllciB3aXRoIGFuIGlucHV0IHNoYXBlIHRoYXQgbWF0Y2hlcyAKICAgIHRoYXQgb2YgZXZlcnkgaW1hZ2UgaW4gdGhlIHRyYWluaW5nIHNldCAoaW5jbHVkaW5nIHRoZSBjb2xvciBkaW1lbnNpb24pCiAgICAKICAgIC0gVGhlIG1vZGVsIHdpbGwgd29yayBiZXN0IHdpdGggMyBjb252b2x1dGlvbmFsIGxheWVycwogICAgCiAgICAtIFRoZXJlIHNob3VsZCBiZSBhIEZsYXR0ZW4gbGF5ZXIgaW4gYmV0d2VlbiBjb252b2x1dGlvbmFsIGFuZCBkZW5zZSBsYXllcnMKICAgIAogICAgLSBUaGUgZmluYWwgbGF5ZXIgc2hvdWxkIGJlIGEgRGVuc2UgbGF5ZXIgd2l0aCB0aGUgbnVtYmVyIG9mIHVuaXRzIGFuZCAKICAgIGFjdGl2YXRpb24gZnVuY3Rpb24gdGhhdCBzdXBwb3J0cyBiaW5hcnkgY2xhc3NpZmljYXRpb24uCg==\"\n",
        "encoded_answer = encoded_answer.encode('ascii')\n",
        "answer = base64.b64decode(encoded_answer)\n",
        "answer = answer.decode('ascii')\n",
        "\n",
        "print(answer)"
      ],
      "metadata": {
        "id": "jxd-FcLwzmon"
      },
      "execution_count": null,
      "outputs": []
    },
    {
      "cell_type": "markdown",
      "source": [
        "**Congratulations on finishing the last assignment of this course!**\n",
        "\n",
        "You have successfully implemented a CNN to assist you in the classification task for complex images. Nice job!\n",
        "\n",
        "**Keep it up!**"
      ],
      "metadata": {
        "id": "AIx9Mu-QzpWq"
      }
    }
  ]
}