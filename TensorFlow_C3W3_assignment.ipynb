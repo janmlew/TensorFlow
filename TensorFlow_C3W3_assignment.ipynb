{
  "nbformat": 4,
  "nbformat_minor": 0,
  "metadata": {
    "colab": {
      "provenance": [],
      "authorship_tag": "ABX9TyODPQr7NSc4M61/1hYZ9N08",
      "include_colab_link": true
    },
    "kernelspec": {
      "name": "python3",
      "display_name": "Python 3"
    },
    "language_info": {
      "name": "python"
    }
  },
  "cells": [
    {
      "cell_type": "markdown",
      "metadata": {
        "id": "view-in-github",
        "colab_type": "text"
      },
      "source": [
        "<a href=\"https://colab.research.google.com/github/janmlew/TensorFlow/blob/master/TensorFlow_C3W3_assignment.ipynb\" target=\"_parent\"><img src=\"https://colab.research.google.com/assets/colab-badge.svg\" alt=\"Open In Colab\"/></a>"
      ]
    },
    {
      "cell_type": "markdown",
      "source": [
        "# Week 3: Exploring Overfitting in NLP\n",
        "Welcome to this assignment! During this week you saw different ways to handle sequence-like data. You saw how some Keras' layers such as GRU, Conv and LSTM can be used to tackle problems in this space. Now you will put this knowledge into practice by creating a model architecture that does not overfit.\n",
        "\n",
        "For this assignment you will be using a variation of the [Sentiment140 dataset](http://help.sentiment140.com/home), which contains 1.6 million tweets alongside their respective sentiment (0 for negative and 4 for positive).\n",
        "\n",
        "You will also need to create the helper functions very similar to the ones you coded in previous assignments pre-process data and to tokenize sentences. However the objective of the assignment is to find a model architecture that will not overfit.\n",
        "\n",
        "Let's get started!"
      ],
      "metadata": {
        "id": "MWYP2LlPgcg1"
      }
    },
    {
      "cell_type": "code",
      "execution_count": null,
      "metadata": {
        "id": "0zDYt7D0gP0L"
      },
      "outputs": [],
      "source": [
        "# IMPORTANT: This will check your notebook's metadata for grading.\n",
        "# Please do not continue the lab unless the output of this cell tells you to proceed.\n",
        "!python add_metadata.py --filename C3W3_Assignment.ipynb"
      ]
    },
    {
      "cell_type": "markdown",
      "source": [
        "<i>**NOTE:** To prevent errors from the autograder, you are not allowed to edit or delete non-graded cells in this notebook . Please only put your solutions in between the ### START CODE HERE and ### END CODE HERE code comments, and also refrain from adding any new cells. **Once you have passed this assignment** and want to experiment with any of the non-graded code, you may follow the instructions at the bottom of this notebook.</i>"
      ],
      "metadata": {
        "id": "RR31TRw3gpj0"
      }
    },
    {
      "cell_type": "code",
      "source": [
        "# grader-required-cell\n",
        "\n",
        "import csv\n",
        "import random\n",
        "import pickle\n",
        "import numpy as np\n",
        "import tensorflow as tf\n",
        "from tensorflow.keras.preprocessing.text import Tokenizer\n",
        "from tensorflow.keras.preprocessing.sequence import pad_sequences\n",
        "import matplotlib.pyplot as plt\n",
        "from scipy.stats import linregress"
      ],
      "metadata": {
        "id": "bvF8_1_3g_pi"
      },
      "execution_count": null,
      "outputs": []
    },
    {
      "cell_type": "markdown",
      "source": [
        "# Defining some useful global variables\n",
        "Next you will define some global variables that will be used throughout the assignment.\n",
        "\n",
        "* EMBEDDING_DIM: Dimension of the dense embedding, will be used in the embedding layer of the model. Defaults to 100.\n",
        "* MAXLEN: Maximum length of all sequences. Defaults to 16.\n",
        "* TRUNCATING: Truncating strategy (truncate either before or after each sequence.). Defaults to 'post'.\n",
        "* PADDING: Padding strategy (pad either before or after each sequence.). Defaults to 'post'.\n",
        "* OOV_TOKEN: Token to replace out-of-vocabulary words during text_to_sequence calls. Defaults to \"<OOV>\".\n",
        "* MAX_EXAMPLES: Max number of examples to use. Defaults to 160000 (10% of the original number of examples)\n",
        "* TRAINING_SPLIT: Proportion of data used for training. Defaults to 0.9\n",
        "\n",
        "**For now leave them unchanged but after submitting your assignment for grading you are encouraged to come back here and play with these parameters to see the impact they have in the classification process.**"
      ],
      "metadata": {
        "id": "04u3ji_YhCT6"
      }
    },
    {
      "cell_type": "code",
      "source": [
        "# grader-required-cell\n",
        "\n",
        "EMBEDDING_DIM = 100\n",
        "MAXLEN = 16\n",
        "TRUNCATING = 'post'\n",
        "PADDING = 'post'\n",
        "OOV_TOKEN = \"<OOV>\"\n",
        "MAX_EXAMPLES = 160000\n",
        "TRAINING_SPLIT = 0.9"
      ],
      "metadata": {
        "id": "vnb5GWw3hRd3"
      },
      "execution_count": null,
      "outputs": []
    },
    {
      "cell_type": "markdown",
      "source": [
        "# Explore the dataset\n",
        "The dataset is provided in a csv file.\n",
        "\n",
        "Each row of this file contains the following values separated by commas:\n",
        "\n",
        "* target: the polarity of the tweet (0 = negative, 4 = positive)\n",
        "* ids: The id of the tweet\n",
        "* date: the date of the tweet\n",
        "* flag: The query. If there is no query, then this value is NO_QUERY.\n",
        "* user: the user that tweeted\n",
        "* text: the text of the tweet\n",
        "\n",
        "Take a look at the first two examples:"
      ],
      "metadata": {
        "id": "lBQkiy9zhTfv"
      }
    },
    {
      "cell_type": "code",
      "source": [
        "# grader-required-cell\n",
        "\n",
        "SENTIMENT_CSV = \"./data/training_cleaned.csv\"\n",
        "\n",
        "with open(SENTIMENT_CSV, 'r') as csvfile:\n",
        "    print(f\"First data point looks like this:\\n\\n{csvfile.readline()}\")\n",
        "    print(f\"Second data point looks like this:\\n\\n{csvfile.readline()}\")"
      ],
      "metadata": {
        "id": "5ga5H0CKhfZ5"
      },
      "execution_count": null,
      "outputs": []
    },
    {
      "cell_type": "markdown",
      "source": [
        "**Notice that this file does not have a header so you won't need to skip the first row when parsing the file.**\n",
        "\n",
        "For the task at hand you will only need the information of the target and the text, which are the first and last element of each row.\n",
        "\n",
        "# Parsing the raw data\n",
        "Now you need to read the data from the csv file. To do so, complete the parse_data_from_file function.\n",
        "\n",
        "A couple of things to note:\n",
        "\n",
        "* You should NOT omit the first line as the file does not contain headers.\n",
        "* There is no need to save the data points as numpy arrays, regular lists is fine.\n",
        "* To read from csv files use csv.reader by passing the appropriate arguments.\n",
        "* csv.reader returns an iterable that returns each row in every iteration. So the label can be accessed via row[0] and the text via row[5].\n",
        "* The labels are originally encoded as strings ('0' representing negative and '4' representing positive). **You need to change this so that the labels are integers and 0 is used for representing negative, while 1 should represent positive.**"
      ],
      "metadata": {
        "id": "FqoACikThlm6"
      }
    },
    {
      "cell_type": "code",
      "source": [
        "# grader-required-cell\n",
        "\n",
        "# GRADED FUNCTION: parse_data_from_file\n",
        "def parse_data_from_file(filename):\n",
        "    \"\"\"\n",
        "    Extracts sentences and labels from a CSV file\n",
        "\n",
        "    Args:\n",
        "        filename (string): path to the CSV file\n",
        "\n",
        "    Returns:\n",
        "        sentences, labels (list of string, list of string): tuple containing lists of sentences and labels\n",
        "    \"\"\"\n",
        "\n",
        "    sentences = []\n",
        "    labels = []\n",
        "\n",
        "    with open(filename, 'r') as csvfile:\n",
        "        ### START CODE HERE\n",
        "        reader = csv.reader(None, delimiter=None)\n",
        "        ### END CODE HERE\n",
        "\n",
        "    return sentences, labels"
      ],
      "metadata": {
        "id": "Y5NTHr9Nh9Tu"
      },
      "execution_count": null,
      "outputs": []
    },
    {
      "cell_type": "code",
      "source": [
        "# grader-required-cell\n",
        "\n",
        "# Test your function\n",
        "sentences, labels = parse_data_from_file(SENTIMENT_CSV)\n",
        "\n",
        "print(f\"dataset contains {len(sentences)} examples\\n\")\n",
        "\n",
        "print(f\"Text of second example should look like this:\\n{sentences[1]}\\n\")\n",
        "print(f\"Text of fourth example should look like this:\\n{sentences[3]}\")\n",
        "\n",
        "print(f\"\\nLabels of last 5 examples should look like this:\\n{labels[-5:]}\")"
      ],
      "metadata": {
        "id": "m8E9KZ5-iAiH"
      },
      "execution_count": null,
      "outputs": []
    },
    {
      "cell_type": "markdown",
      "source": [
        "**Expected Output:**\n",
        "\n",
        "> dataset contains 1600000 examples\n",
        ">\n",
        "> Text of second example should look like this:  \n",
        "is upset that he can't update his Facebook by texting it... and might cry as a result  School today also. Blah!\n",
        ">\n",
        "> Text of fourth example should look like this:  \n",
        "my whole body feels itchy and like its on fire\n",
        ">\n",
        "> Labels of last 5 examples should look like this:  \n",
        "[1, 1, 1, 1, 1]\n",
        "\n",
        "You might have noticed that this dataset contains a lot of examples. In order to keep a low execution time of this assignment you will be using only 10% of the original data. The next cell does this while also randomnizing the datapoints that will be used:"
      ],
      "metadata": {
        "id": "udbk3GQriDVM"
      }
    },
    {
      "cell_type": "code",
      "source": [
        "# grader-required-cell\n",
        "\n",
        "# Bundle the two lists into a single one\n",
        "sentences_and_labels = list(zip(sentences, labels))\n",
        "\n",
        "# Perform random sampling\n",
        "random.seed(42)\n",
        "sentences_and_labels = random.sample(sentences_and_labels, MAX_EXAMPLES)\n",
        "\n",
        "# Unpack back into separate lists\n",
        "sentences, labels = zip(*sentences_and_labels)\n",
        "\n",
        "print(f\"There are {len(sentences)} sentences and {len(labels)} labels after random sampling\\n\")"
      ],
      "metadata": {
        "id": "NyH_GTTlihC_"
      },
      "execution_count": null,
      "outputs": []
    },
    {
      "cell_type": "markdown",
      "source": [
        "**Expected Output:**\n",
        "\n",
        "> There are 160000 sentences and 160000 labels after random sampling\n",
        "\n",
        "# Training - Validation Split\n",
        "Now you will code the train_val_split, which given the list of sentences, the list of labels and the proportion of data for the training set, should return the training and validation sentences and labels:"
      ],
      "metadata": {
        "id": "Pnl7BPjYij1_"
      }
    },
    {
      "cell_type": "code",
      "source": [
        "# grader-required-cell\n",
        "\n",
        "# GRADED FUNCTION: train_val_split\n",
        "def train_val_split(sentences, labels, training_split):\n",
        "    \"\"\"\n",
        "    Splits the dataset into training and validation sets\n",
        "\n",
        "    Args:\n",
        "        sentences (list of string): lower-cased sentences without stopwords\n",
        "        labels (list of string): list of labels\n",
        "        training split (float): proportion of the dataset to convert to include in the train set\n",
        "\n",
        "    Returns:\n",
        "        train_sentences, validation_sentences, train_labels, validation_labels - lists containing the data splits\n",
        "    \"\"\"\n",
        "    ### START CODE HERE\n",
        "\n",
        "    # Compute the number of sentences that will be used for training (should be an integer)\n",
        "    train_size = None\n",
        "\n",
        "    # Split the sentences and labels into train/validation splits\n",
        "    train_sentences = None\n",
        "    train_labels = None\n",
        "\n",
        "    validation_sentences = None\n",
        "    validation_labels = None\n",
        "\n",
        "    ### END CODE HERE\n",
        "\n",
        "    return train_sentences, validation_sentences, train_labels, validation_labels"
      ],
      "metadata": {
        "id": "m6xCsyU5ijSM"
      },
      "execution_count": null,
      "outputs": []
    },
    {
      "cell_type": "code",
      "source": [
        "# grader-required-cell\n",
        "\n",
        "# Test your function\n",
        "train_sentences, val_sentences, train_labels, val_labels = train_val_split(sentences, labels, TRAINING_SPLIT)\n",
        "\n",
        "print(f\"There are {len(train_sentences)} sentences for training.\\n\")\n",
        "print(f\"There are {len(train_labels)} labels for training.\\n\")\n",
        "print(f\"There are {len(val_sentences)} sentences for validation.\\n\")\n",
        "print(f\"There are {len(val_labels)} labels for validation.\")"
      ],
      "metadata": {
        "id": "TLhzn5LyiqkU"
      },
      "execution_count": null,
      "outputs": []
    },
    {
      "cell_type": "markdown",
      "source": [
        "**Expected Output:**\n",
        "\n",
        "> There are 144000 sentences for training.\n",
        ">\n",
        "> There are 144000 labels for training.\n",
        ">\n",
        "> There are 16000 sentences for validation.\n",
        ">\n",
        "> There are 16000 labels for validation.\n",
        "\n",
        "# Tokenization - Sequences, truncating and padding\n",
        "Now that you have sets for training and validation it is time for you to begin the tokenization process.\n",
        "\n",
        "Begin by completing the fit_tokenizer function below. This function should return a [Tokenizer](https://www.tensorflow.org/api_docs/python/tf/keras/preprocessing/text/Tokenizer) that has been fitted to the training sentences."
      ],
      "metadata": {
        "id": "mb7QjrK1it1i"
      }
    },
    {
      "cell_type": "code",
      "source": [
        "# grader-required-cell\n",
        "\n",
        "# GRADED FUNCTION: fit_tokenizer\n",
        "def fit_tokenizer(train_sentences, oov_token):\n",
        "    \"\"\"\n",
        "    Instantiates the Tokenizer class on the training sentences\n",
        "\n",
        "    Args:\n",
        "        train_sentences (list of string): lower-cased sentences without stopwords to be used for training\n",
        "        oov_token (string) - symbol for the out-of-vocabulary token\n",
        "\n",
        "    Returns:\n",
        "        tokenizer (object): an instance of the Tokenizer class containing the word-index dictionary\n",
        "    \"\"\"\n",
        "    ### START CODE HERE\n",
        "\n",
        "    # Instantiate the Tokenizer class, passing in the correct values for oov_token\n",
        "    tokenizer = None\n",
        "\n",
        "    # Fit the tokenizer to the training sentences\n",
        "\n",
        "\n",
        "    ### END CODE HERE\n",
        "\n",
        "    return tokenizer"
      ],
      "metadata": {
        "id": "3iMoNcJQi5CW"
      },
      "execution_count": null,
      "outputs": []
    },
    {
      "cell_type": "code",
      "source": [
        "# grader-required-cell\n",
        "\n",
        "# Test your function\n",
        "tokenizer = fit_tokenizer(train_sentences, OOV_TOKEN)\n",
        "\n",
        "word_index = tokenizer.word_index\n",
        "VOCAB_SIZE = len(word_index)\n",
        "\n",
        "print(f\"Vocabulary contains {VOCAB_SIZE} words\\n\")\n",
        "print(\"<OOV> token included in vocabulary\" if \"<OOV>\" in word_index else \"<OOV> token NOT included in vocabulary\")\n",
        "print(f\"\\nindex of word 'i' should be {word_index['i']}\")"
      ],
      "metadata": {
        "id": "m0B4IIpoi78_"
      },
      "execution_count": null,
      "outputs": []
    },
    {
      "cell_type": "markdown",
      "source": [
        "**Expected Output:**\n",
        "\n",
        "> Vocabulary contains 128293 words\n",
        ">\n",
        "> <OOV> token included in vocabulary\n",
        ">\n",
        "> index of word 'i' should be 2"
      ],
      "metadata": {
        "id": "zJyWiMQli9tz"
      }
    },
    {
      "cell_type": "code",
      "source": [
        "# grader-required-cell\n",
        "\n",
        "# GRADED FUNCTION: seq_pad_and_trunc\n",
        "def seq_pad_and_trunc(sentences, tokenizer, padding, truncating, maxlen):\n",
        "    \"\"\"\n",
        "    Generates an array of token sequences and pads them to the same length\n",
        "\n",
        "    Args:\n",
        "        sentences (list of string): list of sentences to tokenize and pad\n",
        "        tokenizer (object): Tokenizer instance containing the word-index dictionary\n",
        "        padding (string): type of padding to use\n",
        "        truncating (string): type of truncating to use\n",
        "        maxlen (int): maximum length of the token sequence\n",
        "\n",
        "    Returns:\n",
        "        pad_trunc_sequences (array of int): tokenized sentences padded to the same length\n",
        "    \"\"\"\n",
        "    ### START CODE HERE\n",
        "\n",
        "    # Convert sentences to sequences\n",
        "    sequences = None\n",
        "\n",
        "    # Pad the sequences using the correct padding, truncating and maxlen\n",
        "    pad_trunc_sequences = None\n",
        "\n",
        "    ### END CODE HERE\n",
        "\n",
        "    return pad_trunc_sequences"
      ],
      "metadata": {
        "id": "9Jdt0r2ZjHAF"
      },
      "execution_count": null,
      "outputs": []
    },
    {
      "cell_type": "code",
      "source": [
        "# grader-required-cell\n",
        "\n",
        "# Test your function\n",
        "train_pad_trunc_seq = seq_pad_and_trunc(train_sentences, tokenizer, PADDING, TRUNCATING, MAXLEN)\n",
        "val_pad_trunc_seq = seq_pad_and_trunc(val_sentences, tokenizer, PADDING, TRUNCATING, MAXLEN)\n",
        "\n",
        "print(f\"Padded and truncated training sequences have shape: {train_pad_trunc_seq.shape}\\n\")\n",
        "print(f\"Padded and truncated validation sequences have shape: {val_pad_trunc_seq.shape}\")"
      ],
      "metadata": {
        "id": "ZUd6-4rVjJ0n"
      },
      "execution_count": null,
      "outputs": []
    },
    {
      "cell_type": "markdown",
      "source": [
        "**Expected Output:**\n",
        "\n",
        "> Padded and truncated training sequences have shape: (144000, 16)\n",
        ">\n",
        "> Padded and truncated validation sequences have shape: (16000, 16)\n",
        "\n",
        "Remember that the pad_sequences function returns numpy arrays, so your training and validation sequences are already in this format.\n",
        "\n",
        "However the labels are still Python lists. Before going forward you should convert them numpy arrays as well. You can do this by running the following cell:"
      ],
      "metadata": {
        "id": "HokHG3gWjL0_"
      }
    },
    {
      "cell_type": "code",
      "source": [
        "# grader-required-cell\n",
        "\n",
        "train_labels = np.array(train_labels)\n",
        "val_labels = np.array(val_labels)"
      ],
      "metadata": {
        "id": "v90gzBm0jRqx"
      },
      "execution_count": null,
      "outputs": []
    },
    {
      "cell_type": "markdown",
      "source": [
        "# Using pre-defined Embeddings\n",
        "This time you will not be learning embeddings from your data but you will be using pre-trained word vectors.\n",
        "\n",
        "In particular you will be using the 100 dimension version of [GloVe](https://nlp.stanford.edu/projects/glove/) from Stanford."
      ],
      "metadata": {
        "id": "Rxv2ED5XjTKp"
      }
    },
    {
      "cell_type": "code",
      "source": [
        "# grader-required-cell\n",
        "\n",
        "# Define path to file containing the embeddings\n",
        "GLOVE_FILE = './data/glove.6B.100d.txt'\n",
        "\n",
        "# Initialize an empty embeddings index dictionary\n",
        "GLOVE_EMBEDDINGS = {}\n",
        "\n",
        "# Read file and fill GLOVE_EMBEDDINGS with its contents\n",
        "with open(GLOVE_FILE) as f:\n",
        "    for line in f:\n",
        "        values = line.split()\n",
        "        word = values[0]\n",
        "        coefs = np.asarray(values[1:], dtype='float32')\n",
        "        GLOVE_EMBEDDINGS[word] = coefs"
      ],
      "metadata": {
        "id": "rzo7TkX0jbh-"
      },
      "execution_count": null,
      "outputs": []
    },
    {
      "cell_type": "markdown",
      "source": [
        "Now you have access to GloVe's pre-trained word vectors. Isn't that cool?\n",
        "\n",
        "Let's take a look at the vector for the word **dog**:"
      ],
      "metadata": {
        "id": "5eRVwOnAjde4"
      }
    },
    {
      "cell_type": "code",
      "source": [
        "# grader-required-cell\n",
        "\n",
        "test_word = 'dog'\n",
        "\n",
        "test_vector = GLOVE_EMBEDDINGS[test_word]\n",
        "\n",
        "print(f\"Vector representation of word {test_word} looks like this:\\n\\n{test_vector}\")"
      ],
      "metadata": {
        "id": "Yh8qfborjjEq"
      },
      "execution_count": null,
      "outputs": []
    },
    {
      "cell_type": "markdown",
      "source": [
        "Feel free to change the test_word to see the vector representation of any word you can think of.\n",
        "\n",
        "Also, notice that the dimension of each vector is 100. You can easily double check this by running the following cell:"
      ],
      "metadata": {
        "id": "gZHEYk30jk15"
      }
    },
    {
      "cell_type": "code",
      "source": [
        "# grader-required-cell\n",
        "\n",
        "print(f\"Each word vector has shape: {test_vector.shape}\")"
      ],
      "metadata": {
        "id": "WZg7KH0Fjm1n"
      },
      "execution_count": null,
      "outputs": []
    },
    {
      "cell_type": "markdown",
      "source": [
        "# Represent the words in your vocabulary using the embeddings\n",
        "Save the vector representation of each word in the vocabulary in a numpy array.\n",
        "\n",
        "A couple of things to notice:\n",
        "\n",
        "* If a word in your vocabulary is not present in GLOVE_EMBEDDINGS the representation for that word is left as a column of zeros.\n",
        "* word_index starts counting at 1, because of this you will need to add an extra column at the left-most side of the EMBEDDINGS_MATRIX array. This is the reason why you add 1 to VOCAB_SIZE in the cell below:"
      ],
      "metadata": {
        "id": "EanDCixVjpw7"
      }
    },
    {
      "cell_type": "code",
      "source": [
        "# grader-required-cell\n",
        "\n",
        "# Initialize an empty numpy array with the appropriate size\n",
        "EMBEDDINGS_MATRIX = np.zeros((VOCAB_SIZE+1, EMBEDDING_DIM))\n",
        "\n",
        "# Iterate all of the words in the vocabulary and if the vector representation for\n",
        "# each word exists within GloVe's representations, save it in the EMBEDDINGS_MATRIX array\n",
        "for word, i in word_index.items():\n",
        "    embedding_vector = GLOVE_EMBEDDINGS.get(word)\n",
        "    if embedding_vector is not None:\n",
        "        EMBEDDINGS_MATRIX[i] = embedding_vector"
      ],
      "metadata": {
        "id": "2TtOgbQ4jvuj"
      },
      "execution_count": null,
      "outputs": []
    },
    {
      "cell_type": "markdown",
      "source": [
        "Now you have the pre-trained embeddings ready to use!\n",
        "\n",
        "# Define a model that does not overfit\n",
        "Now you need to define a model that will handle the problem at hand while not overfitting.\n",
        "\n",
        "A couple of things to note / hints:\n",
        "\n",
        "* The first layer is provided so you can see how the Embedding layer is configured when using pre-trained embeddings\n",
        "\n",
        "* You can try different combinations of layers covered in previous ungraded labs such as:\n",
        "  * Conv1D\n",
        "  * Dropout\n",
        "  * GlobalMaxPooling1D\n",
        "  * MaxPooling1D\n",
        "  * LSTM\n",
        "  * Bidirectional(LSTM)\n",
        "* The last two layers should be Dense layers.\n",
        "\n",
        "* There multiple ways of solving this problem. So try an architecture that you think will not overfit.\n",
        "\n",
        "* Try simpler architectures first to avoid long training times. Architectures that are able to solve this problem usually have around 3-4 layers (excluding the last two Dense ones)\n",
        "\n",
        "* Include at least one Dropout layer to mitigate overfitting."
      ],
      "metadata": {
        "id": "V-dAbhg7jybq"
      }
    },
    {
      "cell_type": "code",
      "source": [
        "# grader-required-cell\n",
        "\n",
        "# GRADED FUNCTION: create_model\n",
        "def create_model(vocab_size, embedding_dim, maxlen, embeddings_matrix):\n",
        "    \"\"\"\n",
        "    Creates a binary sentiment classifier model\n",
        "\n",
        "    Args:\n",
        "        vocab_size (int): size of the vocabulary for the Embedding layer input\n",
        "        embedding_dim (int): dimensionality of the Embedding layer output\n",
        "        maxlen (int): length of the input sequences\n",
        "        embeddings_matrix (array): predefined weights of the embeddings\n",
        "\n",
        "    Returns:\n",
        "        model (tf.keras Model): the sentiment classifier model\n",
        "    \"\"\"\n",
        "    ### START CODE HERE\n",
        "\n",
        "    model = tf.keras.Sequential([\n",
        "        # This is how you need to set the Embedding layer when using pre-trained embeddings\n",
        "        tf.keras.layers.Embedding(vocab_size+1, embedding_dim, input_length=maxlen, weights=[embeddings_matrix], trainable=False),\n",
        "    ])\n",
        "\n",
        "    model.compile(loss=None,\n",
        "                  optimizer=None,\n",
        "                  metrics=['accuracy'])\n",
        "\n",
        "    ### END CODE HERE\n",
        "\n",
        "    return model"
      ],
      "metadata": {
        "id": "GKu6k9jykRiT"
      },
      "execution_count": null,
      "outputs": []
    },
    {
      "cell_type": "code",
      "source": [
        "# grader-required-cell\n",
        "\n",
        "# Create your untrained model\n",
        "model = create_model(VOCAB_SIZE, EMBEDDING_DIM, MAXLEN, EMBEDDINGS_MATRIX)\n",
        "\n",
        "# Train the model and save the training history\n",
        "history = model.fit(train_pad_trunc_seq, train_labels, epochs=20, validation_data=(val_pad_trunc_seq, val_labels))"
      ],
      "metadata": {
        "id": "35DOreHQkThO"
      },
      "execution_count": null,
      "outputs": []
    },
    {
      "cell_type": "markdown",
      "source": [
        "To pass this assignment your val_loss (validation loss) should either be flat or decreasing.\n",
        "\n",
        "Although a flat val_loss and a lowering train_loss (or just loss) also indicate some overfitting what you really want to avoid is having a lowering train_loss and an increasing val_loss.\n",
        "\n",
        "With this in mind, the following three curves will be acceptable solutions:\n",
        "\n",
        "![valid-1.png](data:image/png;base64,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)\n",
        "![valid-2.jpg](data:image/jpeg;base64,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)\n",
        "![valid-3.jpg](data:image/jpeg;base64,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)"
      ],
      "metadata": {
        "id": "J-PG8sb_kWog"
      }
    },
    {
      "cell_type": "markdown",
      "source": [
        "While the following would not be able to pass the grading:\n",
        "\n",
        "![invalid-1.jpg](data:image/jpeg;base64,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)\n",
        "\n",
        "Run the following cell to check your loss curves:"
      ],
      "metadata": {
        "id": "WQY5fczGlPES"
      }
    },
    {
      "cell_type": "code",
      "source": [
        "# grader-required-cell\n",
        "\n",
        "#-----------------------------------------------------------\n",
        "# Retrieve a list of list results on training and test data\n",
        "# sets for each training epoch\n",
        "#-----------------------------------------------------------\n",
        "loss = history.history['loss']\n",
        "val_loss = history.history['val_loss']\n",
        "\n",
        "epochs = [*range(20)]\n",
        "\n",
        "#------------------------------------------------\n",
        "# Plot training and validation loss per epoch\n",
        "#------------------------------------------------\n",
        "plt.plot(epochs, loss, 'r')\n",
        "plt.plot(epochs, val_loss, 'b')\n",
        "plt.title('Training and validation loss')\n",
        "plt.xlabel(\"Epochs\")\n",
        "plt.ylabel(\"Loss\")\n",
        "plt.legend([\"Loss\", \"Validation Loss\"])\n",
        "plt.show()"
      ],
      "metadata": {
        "id": "Ede4n5IslcBp"
      },
      "execution_count": null,
      "outputs": []
    },
    {
      "cell_type": "markdown",
      "source": [
        "If you wish so, you can also check the training and validation accuracies of your model:"
      ],
      "metadata": {
        "id": "8s1N5k3HlfST"
      }
    },
    {
      "cell_type": "code",
      "source": [
        "# grader-required-cell\n",
        "\n",
        "acc = history.history['accuracy']\n",
        "val_acc = history.history['val_accuracy']\n",
        "\n",
        "#------------------------------------------------\n",
        "# Plot training and validation accuracy per epoch\n",
        "#------------------------------------------------\n",
        "plt.plot(epochs, acc, 'r')\n",
        "plt.plot(epochs, val_acc, 'b')\n",
        "plt.title('Training and validation accuracy')\n",
        "plt.xlabel(\"Epochs\")\n",
        "plt.ylabel(\"Accuracy\")\n",
        "plt.legend([\"Accuracy\", \"Validation Accuracy\"])\n",
        "plt.show()"
      ],
      "metadata": {
        "id": "KG_K-Lk0liBe"
      },
      "execution_count": null,
      "outputs": []
    },
    {
      "cell_type": "markdown",
      "source": [
        "A more rigorous way of setting the passing threshold of this assignment is to use the slope of your val_loss curve.\n",
        "\n",
        "**To pass this assignment the slope of your val_loss curve should be 0.0005 at maximum.**"
      ],
      "metadata": {
        "id": "Ix4PrJ78lkMB"
      }
    },
    {
      "cell_type": "code",
      "source": [
        "# grader-required-cell\n",
        "\n",
        "# Test the slope of your val_loss curve\n",
        "slope, *_ = linregress(epochs, val_loss)\n",
        "print(f\"The slope of your validation loss curve is {slope:.5f}\")"
      ],
      "metadata": {
        "id": "DifVxO7flqxZ"
      },
      "execution_count": null,
      "outputs": []
    },
    {
      "cell_type": "markdown",
      "source": [
        "**If your model generated a validation loss curve that meets the criteria above, run the following cell and then submit your assignment for grading. Otherwise, try with a different architecture.**"
      ],
      "metadata": {
        "id": "tdTiR7yelriZ"
      }
    },
    {
      "cell_type": "code",
      "source": [
        "# grader-required-cell\n",
        "\n",
        "with open('history.pkl', 'wb') as f:\n",
        "    pickle.dump(history.history, f)"
      ],
      "metadata": {
        "id": "txd4t-rVluM_"
      },
      "execution_count": null,
      "outputs": []
    },
    {
      "cell_type": "markdown",
      "source": [
        "**Congratulations on finishing this week's assignment!**\n",
        "\n",
        "You have successfully implemented a neural network capable of classifying sentiment in text data while doing a fairly good job of not overfitting! Nice job!\n",
        "\n",
        "**Keep it up!**\n",
        "\n",
        "**Please click here if you want to experiment with any of the non-graded code.**\n",
        "\n",
        "**<i>Important Note: Please only do this when you've already passed the assignment to avoid problems with the autograder.**</i>\n",
        "\n",
        "[REDACTED]"
      ],
      "metadata": {
        "id": "VBWeMH5JlwMA"
      }
    }
  ]
}