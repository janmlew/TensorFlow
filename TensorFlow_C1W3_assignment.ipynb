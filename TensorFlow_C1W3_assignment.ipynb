{
  "nbformat": 4,
  "nbformat_minor": 0,
  "metadata": {
    "colab": {
      "provenance": [],
      "gpuType": "T4",
      "mount_file_id": "1oH0U6Yo2OvpUZwHjYBn5U_DoNqmZlJnW",
      "authorship_tag": "ABX9TyMZfNPeobpvyGkbVMDQB7u1",
      "include_colab_link": true
    },
    "kernelspec": {
      "name": "python3",
      "display_name": "Python 3"
    },
    "language_info": {
      "name": "python"
    },
    "accelerator": "GPU"
  },
  "cells": [
    {
      "cell_type": "markdown",
      "metadata": {
        "id": "view-in-github",
        "colab_type": "text"
      },
      "source": [
        "<a href=\"https://colab.research.google.com/github/janmlew/TensorFlow/blob/master/TensorFlow_C1W3_assignment.ipynb\" target=\"_parent\"><img src=\"https://colab.research.google.com/assets/colab-badge.svg\" alt=\"Open In Colab\"/></a>"
      ]
    },
    {
      "cell_type": "markdown",
      "source": [
        "# Week 3: Improve MNIST with Convolutions\n",
        "\n",
        "In the videos you looked at how you would improve Fashion MNIST using Convolutions. For this exercise see if you can improve MNIST to 99.5% accuracy or more by adding only a single convolutional layer and a single MaxPooling 2D layer to the model from the assignment of the previous week.\n",
        "\n",
        "You should stop training once the accuracy goes above this amount. It should happen in less than 10 epochs, so it's ok to hard code the number of epochs for training, but your training must end once it hits the above metric. If it doesn't, then you'll need to redesign your callback.\n",
        "\n",
        "When 99.5% accuracy has been hit, you should print out the string \"Reached 99.5% accuracy so cancelling training!\""
      ],
      "metadata": {
        "id": "MlvKt86ePfB2"
      }
    },
    {
      "cell_type": "code",
      "execution_count": 1,
      "metadata": {
        "id": "R7is5A0IRS6X"
      },
      "outputs": [],
      "source": [
        "import os\n",
        "import numpy as np\n",
        "import tensorflow as tf\n",
        "# from tensorflow import keras <-- This import is unnecessary."
      ]
    },
    {
      "cell_type": "markdown",
      "source": [
        "# Load the data\n",
        "Begin by loading the data. A couple of things to notice:\n",
        "\n",
        "* The file mnist.npz is already included in the current workspace under the data directory. By default the load_data from Keras accepts a path relative to ~/.keras/datasets but in this case it is stored somewhere else, as a result of this, you need to specify the full path.\n",
        "\n",
        "* load_data returns the train and test sets in the form of the tuples (x_train, y_train), (x_test, y_test) but in this exercise you will be needing only the train set so you can ignore the second tuple."
      ],
      "metadata": {
        "id": "6iwehCu0l0R3"
      }
    },
    {
      "cell_type": "code",
      "source": [
        "# Load the data\n",
        "\n",
        "# Get current working directory\n",
        "current_dir = os.getcwd()\n",
        "\n",
        "# Append data/mnist.npz to the previous path to get the full path\n",
        "data_path =  os.path.join(current_dir, \"/content/drive/MyDrive/Colab Notebooks/Project/datasets/mnist.npz\") # Updated file path.\n",
        "\n",
        "# Get only training set\n",
        "(training_images, training_labels), _ = tf.keras.datasets.mnist.load_data(path=data_path)"
      ],
      "metadata": {
        "id": "7-MKrajESreb"
      },
      "execution_count": 3,
      "outputs": []
    },
    {
      "cell_type": "markdown",
      "source": [
        "# Pre-processing the data\n",
        "One important step when dealing with image data is to preprocess the data. During the preprocess step you can apply transformations to the dataset that will be fed into your convolutional neural network.\n",
        "\n",
        "Here you will apply two transformations to the data:\n",
        "\n",
        "* Reshape the data so that it has an extra dimension. The reason for this\n",
        "is that commonly you will use 3-dimensional arrays (without counting the batch dimension) to represent image data. The third dimension represents the color using RGB values. This data might be in black and white format so the third dimension doesn't really add any additional information for the classification process but it is a good practice regardless.\n",
        "\n",
        "* Normalize the pixel values so that these are values between 0 and 1. You can achieve this by dividing every value in the array by the maximum.\n",
        "\n",
        "Remember that these tensors are of type numpy.ndarray so you can use functions like reshape or divide to complete the reshape_and_normalize function below:"
      ],
      "metadata": {
        "id": "AKsHngZ3Sue6"
      }
    },
    {
      "cell_type": "code",
      "source": [
        "# GRADED FUNCTION: reshape_and_normalize\n",
        "\n",
        "def reshape_and_normalize(images):\n",
        "\n",
        "    ### START CODE HERE\n",
        "\n",
        "    # Reshape the images to add an extra dimension\n",
        "    images = None\n",
        "\n",
        "    # Normalize pixel values\n",
        "    images = None\n",
        "\n",
        "    ### END CODE HERE\n",
        "\n",
        "    return images"
      ],
      "metadata": {
        "id": "ZiwifJAfSwIb"
      },
      "execution_count": null,
      "outputs": []
    },
    {
      "cell_type": "markdown",
      "source": [
        "Test your function with the next cell:"
      ],
      "metadata": {
        "id": "y9aDPR-uSysc"
      }
    },
    {
      "cell_type": "code",
      "source": [
        "# Reload the images in case you run this cell multiple times\n",
        "(training_images, _), _ = tf.keras.datasets.mnist.load_data(path=data_path)\n",
        "\n",
        "# Apply your function\n",
        "training_images = reshape_and_normalize(training_images)\n",
        "\n",
        "print(f\"Maximum pixel value after normalization: {np.max(training_images)}\\n\")\n",
        "print(f\"Shape of training set after reshaping: {training_images.shape}\\n\")\n",
        "print(f\"Shape of one image after reshaping: {training_images[0].shape}\")"
      ],
      "metadata": {
        "id": "6I0s_1PFS0SG"
      },
      "execution_count": null,
      "outputs": []
    },
    {
      "cell_type": "markdown",
      "source": [
        "**Expected Output:**\n",
        "\n",
        "> Maximum pixel value after normalization: 1.0  \n",
        "Shape of training set after reshaping: (60000, 28, 28, 1)  \n",
        "Shape of one image after reshaping: (28, 28, 1)\n",
        "\n",
        "# Defining your callback\n",
        "Now complete the callback that will ensure that training will stop after an accuracy of 99.5% is reached:"
      ],
      "metadata": {
        "id": "Zkp0-S36S270"
      }
    },
    {
      "cell_type": "code",
      "source": [
        "# GRADED CLASS: myCallback\n",
        "### START CODE HERE\n",
        "\n",
        "# Remember to inherit from the correct class\n",
        "class myCallback():\n",
        "    # Define the method that checks the accuracy at the end of each epoch\n",
        "    pass\n",
        "\n",
        "### END CODE HERE"
      ],
      "metadata": {
        "id": "QpWn8zrBrHgp"
      },
      "execution_count": null,
      "outputs": []
    },
    {
      "cell_type": "markdown",
      "source": [
        "# Convolutional Model\n",
        "Finally, complete the convolutional_model function below. This function should return your convolutional neural network.\n",
        "\n",
        "**Your model should achieve an accuracy of 99.5% or more before 10 epochs to pass this assignment.**\n",
        "\n",
        "**Hints:**\n",
        "\n",
        "* You can try any architecture for the network but try to keep in mind you don't need a complex one. For instance, only one convolutional layer is needed.\n",
        "\n",
        "* In case you need extra help you can check out an architecture that works pretty well at the end of this notebook."
      ],
      "metadata": {
        "id": "yNEBLXE2rJSC"
      }
    },
    {
      "cell_type": "code",
      "source": [
        "# GRADED FUNCTION: convolutional_model\n",
        "def convolutional_model():\n",
        "    ### START CODE HERE\n",
        "\n",
        "    # Define the model\n",
        "    model = tf.keras.models.Sequential([\n",
        "      None,\n",
        "    ])\n",
        "\n",
        "    ### END CODE HERE\n",
        "\n",
        "    # Compile the model\n",
        "    model.compile(optimizer='adam',\n",
        "                  loss='sparse_categorical_crossentropy',\n",
        "                  metrics=['accuracy'])\n",
        "\n",
        "    return model"
      ],
      "metadata": {
        "id": "__-JCmJArL-e"
      },
      "execution_count": null,
      "outputs": []
    },
    {
      "cell_type": "code",
      "source": [
        "# Save your untrained model\n",
        "model = convolutional_model()\n",
        "\n",
        "# Instantiate the callback class\n",
        "callbacks = myCallback()\n",
        "\n",
        "# Train your model (this can take up to 5 minutes)\n",
        "history = model.fit(training_images, training_labels, epochs=10, callbacks=[callbacks])"
      ],
      "metadata": {
        "id": "6CAJE1i9i6xJ"
      },
      "execution_count": null,
      "outputs": []
    },
    {
      "cell_type": "markdown",
      "source": [
        "If you see the message that you defined in your callback printed out after less than 10 epochs it means your callback worked as expected. You can also double check by running the following cell:"
      ],
      "metadata": {
        "id": "ByN55VLtrm_y"
      }
    },
    {
      "cell_type": "code",
      "source": [
        "print(f\"Your model was trained for {len(history.epoch)} epochs\")"
      ],
      "metadata": {
        "id": "GSzeXIbRrppB"
      },
      "execution_count": null,
      "outputs": []
    },
    {
      "cell_type": "markdown",
      "source": [
        "# Need more help?\n",
        "Run the following cell to see an architecture that works well for the problem at hand:"
      ],
      "metadata": {
        "id": "SxYwatGsjEGI"
      }
    },
    {
      "cell_type": "code",
      "source": [
        "# WE STRONGLY RECOMMEND YOU TO TRY YOUR OWN ARCHITECTURES FIRST\n",
        "# AND ONLY RUN THIS CELL IF YOU WISH TO SEE AN ANSWER\n",
        "\n",
        "import base64\n",
        "\n",
        "encoded_answer = \"CiAgIC0gQSBDb252MkQgbGF5ZXIgd2l0aCAzMiBmaWx0ZXJzLCBhIGtlcm5lbF9zaXplIG9mIDN4MywgUmVMVSBhY3RpdmF0aW9uIGZ1bmN0aW9uIGFuZCBhbiBpbnB1dCBzaGFwZSB0aGF0IG1hdGNoZXMgdGhhdCBvZiBldmVyeSBpbWFnZSBpbiB0aGUgdHJhaW5pbmcgc2V0CiAgIC0gQSBNYXhQb29saW5nMkQgbGF5ZXIgd2l0aCBhIHBvb2xfc2l6ZSBvZiAyeDIKICAgLSBBIEZsYXR0ZW4gbGF5ZXIgd2l0aCBubyBhcmd1bWVudHMKICAgLSBBIERlbnNlIGxheWVyIHdpdGggMTI4IHVuaXRzIGFuZCBSZUxVIGFjdGl2YXRpb24gZnVuY3Rpb24KICAgLSBBIERlbnNlIGxheWVyIHdpdGggMTAgdW5pdHMgYW5kIHNvZnRtYXggYWN0aXZhdGlvbiBmdW5jdGlvbgo=\"\n",
        "encoded_answer = encoded_answer.encode('ascii')\n",
        "answer = base64.b64decode(encoded_answer)\n",
        "answer = answer.decode('ascii')\n",
        "\n",
        "print(answer)"
      ],
      "metadata": {
        "id": "rBip4HV9jH9X"
      },
      "execution_count": null,
      "outputs": []
    },
    {
      "cell_type": "markdown",
      "source": [
        "**Congratulations on finishing this week's assignment!**\n",
        "\n",
        "You have successfully implemented a CNN to assist you in the image classification task. Nice job!\n",
        "\n",
        "**Keep it up!**"
      ],
      "metadata": {
        "id": "N3wrsSrQrro3"
      }
    }
  ]
}