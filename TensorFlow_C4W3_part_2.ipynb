{
  "cells": [
    {
      "cell_type": "markdown",
      "metadata": {
        "id": "view-in-github",
        "colab_type": "text"
      },
      "source": [
        "<a href=\"https://colab.research.google.com/github/janmlew/TensorFlow/blob/master/TensorFlow_C4W3_part_2.ipynb\" target=\"_parent\"><img src=\"https://colab.research.google.com/assets/colab-badge.svg\" alt=\"Open In Colab\"/></a>"
      ]
    },
    {
      "cell_type": "markdown",
      "metadata": {
        "id": "sV_nvXSQGJPK"
      },
      "source": [
        "# Ungraded Lab: Using a multi-layer LSTM for forecasting\n",
        "\n",
        "In this lab, you will use the same RNN architecure in the first lab but will instead stack [LSTM](https://www.tensorflow.org/api_docs/python/tf/keras/layers/LSTM) layers instead of `SimpleRNN`."
      ]
    },
    {
      "cell_type": "markdown",
      "metadata": {
        "id": "3IMbAWETGOWD"
      },
      "source": [
        "## Imports"
      ]
    },
    {
      "cell_type": "code",
      "execution_count": 1,
      "metadata": {
        "id": "BOjujz601HcS"
      },
      "outputs": [],
      "source": [
        "import tensorflow as tf\n",
        "import numpy as np\n",
        "import matplotlib.pyplot as plt"
      ]
    },
    {
      "cell_type": "markdown",
      "metadata": {
        "id": "kD7RQQ0xGQVH"
      },
      "source": [
        "## Utilities"
      ]
    },
    {
      "cell_type": "code",
      "execution_count": 2,
      "metadata": {
        "id": "Zswl7jRtGzkk"
      },
      "outputs": [],
      "source": [
        "def plot_series(time, series, format=\"-\", start=0, end=None):\n",
        "    \"\"\"\n",
        "    Visualizes time series data\n",
        "\n",
        "    Args:\n",
        "      time (array of int) - contains the time steps\n",
        "      series (array of int) - contains the measurements for each time step\n",
        "      format - line style when plotting the graph\n",
        "      start - first time step to plot\n",
        "      end - last time step to plot\n",
        "    \"\"\"\n",
        "\n",
        "    # Setup dimensions of the graph figure\n",
        "    plt.figure(figsize=(10, 6))\n",
        "\n",
        "    if type(series) is tuple:\n",
        "\n",
        "      for series_num in series:\n",
        "        # Plot the time series data\n",
        "        plt.plot(time[start:end], series_num[start:end], format)\n",
        "\n",
        "    else:\n",
        "      # Plot the time series data\n",
        "      plt.plot(time[start:end], series[start:end], format)\n",
        "\n",
        "    # Label the x-axis\n",
        "    plt.xlabel(\"Time\")\n",
        "\n",
        "    # Label the y-axis\n",
        "    plt.ylabel(\"Value\")\n",
        "\n",
        "    # Overlay a grid on the graph\n",
        "    plt.grid(True)\n",
        "\n",
        "    # Draw the graph on screen\n",
        "    plt.show()\n",
        "\n",
        "def trend(time, slope=0):\n",
        "    \"\"\"\n",
        "    Generates synthetic data that follows a straight line given a slope value.\n",
        "\n",
        "    Args:\n",
        "      time (array of int) - contains the time steps\n",
        "      slope (float) - determines the direction and steepness of the line\n",
        "\n",
        "    Returns:\n",
        "      series (array of float) - measurements that follow a straight line\n",
        "    \"\"\"\n",
        "\n",
        "    # Compute the linear series given the slope\n",
        "    series = slope * time\n",
        "\n",
        "    return series\n",
        "\n",
        "def seasonal_pattern(season_time):\n",
        "    \"\"\"\n",
        "    Just an arbitrary pattern, you can change it if you wish\n",
        "\n",
        "    Args:\n",
        "      season_time (array of float) - contains the measurements per time step\n",
        "\n",
        "    Returns:\n",
        "      data_pattern (array of float) -  contains revised measurement values according\n",
        "                                  to the defined pattern\n",
        "    \"\"\"\n",
        "\n",
        "    # Generate the values using an arbitrary pattern\n",
        "    data_pattern = np.where(season_time < 0.4,\n",
        "                    np.cos(season_time * 2 * np.pi),\n",
        "                    1 / np.exp(3 * season_time))\n",
        "\n",
        "    return data_pattern\n",
        "\n",
        "def seasonality(time, period, amplitude=1, phase=0):\n",
        "    \"\"\"\n",
        "    Repeats the same pattern at each period\n",
        "\n",
        "    Args:\n",
        "      time (array of int) - contains the time steps\n",
        "      period (int) - number of time steps before the pattern repeats\n",
        "      amplitude (int) - peak measured value in a period\n",
        "      phase (int) - number of time steps to shift the measured values\n",
        "\n",
        "    Returns:\n",
        "      data_pattern (array of float) - seasonal data scaled by the defined amplitude\n",
        "    \"\"\"\n",
        "\n",
        "    # Define the measured values per period\n",
        "    season_time = ((time + phase) % period) / period\n",
        "\n",
        "    # Generates the seasonal data scaled by the defined amplitude\n",
        "    data_pattern = amplitude * seasonal_pattern(season_time)\n",
        "\n",
        "    return data_pattern\n",
        "\n",
        "def noise(time, noise_level=1, seed=None):\n",
        "    \"\"\"Generates a normally distributed noisy signal\n",
        "\n",
        "    Args:\n",
        "      time (array of int) - contains the time steps\n",
        "      noise_level (float) - scaling factor for the generated signal\n",
        "      seed (int) - number generator seed for repeatability\n",
        "\n",
        "    Returns:\n",
        "      noise (array of float) - the noisy signal\n",
        "    \"\"\"\n",
        "\n",
        "    # Initialize the random number generator\n",
        "    rnd = np.random.RandomState(seed)\n",
        "\n",
        "    # Generate a random number for each time step and scale by the noise level\n",
        "    noise = rnd.randn(len(time)) * noise_level\n",
        "\n",
        "    return noise"
      ]
    },
    {
      "cell_type": "markdown",
      "metadata": {
        "id": "yxNyeFWjGSdj"
      },
      "source": [
        "## Generate the Synthetic Data"
      ]
    },
    {
      "cell_type": "code",
      "execution_count": 3,
      "metadata": {
        "id": "KYEUfDbdpHPm",
        "colab": {
          "base_uri": "https://localhost:8080/",
          "height": 542
        },
        "outputId": "b9e3ec32-8848-4264-a7dc-492b452f19e7"
      },
      "outputs": [
        {
          "output_type": "display_data",
          "data": {
            "text/plain": [
              "<Figure size 1000x600 with 1 Axes>"
            ],
            "image/png": "[encoded data removed]"
          },
          "metadata": {}
        }
      ],
      "source": [
        "# Parameters\n",
        "time = np.arange(4 * 365 + 1, dtype=\"float32\")\n",
        "baseline = 10\n",
        "amplitude = 40\n",
        "slope = 0.05\n",
        "noise_level = 5\n",
        "\n",
        "# Create the series\n",
        "series = baseline + trend(time, slope) + seasonality(time, period=365, amplitude=amplitude)\n",
        "\n",
        "# Update with noise\n",
        "series += noise(time, noise_level, seed=42)\n",
        "\n",
        "# Plot the results\n",
        "plot_series(time, series)"
      ]
    },
    {
      "cell_type": "markdown",
      "metadata": {
        "id": "MYKCvv-eGWRc"
      },
      "source": [
        "## Split the Dataset"
      ]
    },
    {
      "cell_type": "code",
      "execution_count": 4,
      "metadata": {
        "id": "hpp0slenpKVD"
      },
      "outputs": [],
      "source": [
        "# Define the split time\n",
        "split_time = 1000\n",
        "\n",
        "# Get the train set\n",
        "time_train = time[:split_time]\n",
        "x_train = series[:split_time]\n",
        "\n",
        "# Get the validation set\n",
        "time_valid = time[split_time:]\n",
        "x_valid = series[split_time:]"
      ]
    },
    {
      "cell_type": "markdown",
      "metadata": {
        "id": "cktHz9aOGYtV"
      },
      "source": [
        "## Prepare Features and Labels"
      ]
    },
    {
      "cell_type": "code",
      "execution_count": 5,
      "metadata": {
        "id": "G_j_2_Mqwn7-"
      },
      "outputs": [],
      "source": [
        "# Parameters\n",
        "window_size = 20\n",
        "batch_size = 32\n",
        "shuffle_buffer_size = 1000"
      ]
    },
    {
      "cell_type": "code",
      "execution_count": 6,
      "metadata": {
        "id": "4sTTIOCbyShY"
      },
      "outputs": [],
      "source": [
        "def windowed_dataset(series, window_size, batch_size, shuffle_buffer):\n",
        "    \"\"\"Generates dataset windows\n",
        "\n",
        "    Args:\n",
        "      series (array of float) - contains the values of the time series\n",
        "      window_size (int) - the number of time steps to include in the feature\n",
        "      batch_size (int) - the batch size\n",
        "      shuffle_buffer(int) - buffer size to use for the shuffle method\n",
        "\n",
        "    Returns:\n",
        "      dataset (TF Dataset) - TF Dataset containing time windows\n",
        "    \"\"\"\n",
        "\n",
        "    # Generate a TF Dataset from the series values\n",
        "    dataset = tf.data.Dataset.from_tensor_slices(series)\n",
        "\n",
        "    # Window the data but only take those with the specified size\n",
        "    dataset = dataset.window(window_size + 1, shift=1, drop_remainder=True)\n",
        "\n",
        "    # Flatten the windows by putting its elements in a single batch\n",
        "    dataset = dataset.flat_map(lambda window: window.batch(window_size + 1))\n",
        "\n",
        "    # Create tuples with features and labels\n",
        "    dataset = dataset.map(lambda window: (window[:-1], window[-1]))\n",
        "\n",
        "    # Shuffle the windows\n",
        "    dataset = dataset.shuffle(shuffle_buffer)\n",
        "\n",
        "    # Create batches of windows\n",
        "    dataset = dataset.batch(batch_size).prefetch(1)\n",
        "\n",
        "    return dataset"
      ]
    },
    {
      "cell_type": "code",
      "execution_count": 7,
      "metadata": {
        "id": "vGj5-InSwtQQ"
      },
      "outputs": [],
      "source": [
        "# Generate the dataset windows\n",
        "dataset = windowed_dataset(x_train, window_size, batch_size, shuffle_buffer_size)"
      ]
    },
    {
      "cell_type": "markdown",
      "metadata": {
        "id": "p9-Ke8ZaGcjd"
      },
      "source": [
        "## Build the Model\n",
        "\n",
        "As mentioned, you will swap `SimpleRNN` for `LSTM` in this lab. It is also set as bidirectional below but feel free to revise later and see what results you get. LSTMs are much more complex in their internal architecture than simpleRNNs. It implements a cell state that allows it to remember sequences better than simple implementations. This added complexity results in a bigger set of parameters to train and you'll see that when you print the model summary below."
      ]
    },
    {
      "cell_type": "code",
      "execution_count": 8,
      "metadata": {
        "id": "A1Hl39rklkLm",
        "colab": {
          "base_uri": "https://localhost:8080/"
        },
        "outputId": "024a1676-c9f6-4430-8acc-37599866604e"
      },
      "outputs": [
        {
          "output_type": "stream",
          "name": "stdout",
          "text": [
            "Model: \"sequential\"\n",
            "_________________________________________________________________\n",
            " Layer (type)                Output Shape              Param #   \n",
            "=================================================================\n",
            " lambda (Lambda)             (None, 20, 1)             0         \n",
            "                                                                 \n",
            " bidirectional (Bidirection  (None, 20, 64)            8704      \n",
            " al)                                                             \n",
            "                                                                 \n",
            " bidirectional_1 (Bidirecti  (None, 64)                24832     \n",
            " onal)                                                           \n",
            "                                                                 \n",
            " dense (Dense)               (None, 1)                 65        \n",
            "                                                                 \n",
            " lambda_1 (Lambda)           (None, 1)                 0         \n",
            "                                                                 \n",
            "=================================================================\n",
            "Total params: 33601 (131.25 KB)\n",
            "Trainable params: 33601 (131.25 KB)\n",
            "Non-trainable params: 0 (0.00 Byte)\n",
            "_________________________________________________________________\n"
          ]
        }
      ],
      "source": [
        "# Build the Model\n",
        "model_tune = tf.keras.models.Sequential([\n",
        "  tf.keras.layers.Lambda(lambda x: tf.expand_dims(x, axis=-1),\n",
        "                      input_shape=[window_size]),\n",
        "    tf.keras.layers.Bidirectional(tf.keras.layers.LSTM(32, return_sequences=True)),\n",
        "  tf.keras.layers.Bidirectional(tf.keras.layers.LSTM(32)),\n",
        "  tf.keras.layers.Dense(1),\n",
        "  tf.keras.layers.Lambda(lambda x: x * 100.0)\n",
        "])\n",
        "\n",
        "# Print the model summary\n",
        "model_tune.summary()"
      ]
    },
    {
      "cell_type": "markdown",
      "metadata": {
        "id": "FHaFblbwq0GV"
      },
      "source": [
        "## Tune the Learning Rate\n",
        "\n",
        "As usual, you will pick a learning rate by running the tuning code below."
      ]
    },
    {
      "cell_type": "code",
      "execution_count": 9,
      "metadata": {
        "id": "qE7al18qw48G",
        "colab": {
          "base_uri": "https://localhost:8080/"
        },
        "outputId": "b207240d-cc18-4c3b-d2e8-cd86a0dd2b45"
      },
      "outputs": [
        {
          "output_type": "stream",
          "name": "stdout",
          "text": [
            "Epoch 1/100\n",
            "31/31 [==============================] - 22s 14ms/step - loss: 18.0684 - lr: 1.0000e-08\n",
            "Epoch 2/100\n",
            "31/31 [==============================] - 0s 9ms/step - loss: 18.0218 - lr: 1.1220e-08\n",
            "Epoch 3/100\n",
            "31/31 [==============================] - 0s 9ms/step - loss: 17.9660 - lr: 1.2589e-08\n",
            "Epoch 4/100\n",
            "31/31 [==============================] - 0s 9ms/step - loss: 17.9063 - lr: 1.4125e-08\n",
            "Epoch 5/100\n",
            "31/31 [==============================] - 0s 9ms/step - loss: 17.8415 - lr: 1.5849e-08\n",
            "Epoch 6/100\n",
            "31/31 [==============================] - 0s 8ms/step - loss: 17.7698 - lr: 1.7783e-08\n",
            "Epoch 7/100\n",
            "31/31 [==============================] - 0s 9ms/step - loss: 17.6930 - lr: 1.9953e-08\n",
            "Epoch 8/100\n",
            "31/31 [==============================] - 0s 9ms/step - loss: 17.6091 - lr: 2.2387e-08\n",
            "Epoch 9/100\n",
            "31/31 [==============================] - 0s 9ms/step - loss: 17.5189 - lr: 2.5119e-08\n",
            "Epoch 10/100\n",
            "31/31 [==============================] - 0s 10ms/step - loss: 17.4193 - lr: 2.8184e-08\n",
            "Epoch 11/100\n",
            "31/31 [==============================] - 0s 10ms/step - loss: 17.3120 - lr: 3.1623e-08\n",
            "Epoch 12/100\n",
            "31/31 [==============================] - 0s 9ms/step - loss: 17.1941 - lr: 3.5481e-08\n",
            "Epoch 13/100\n",
            "31/31 [==============================] - 0s 9ms/step - loss: 17.0650 - lr: 3.9811e-08\n",
            "Epoch 14/100\n",
            "31/31 [==============================] - 0s 9ms/step - loss: 16.9231 - lr: 4.4668e-08\n",
            "Epoch 15/100\n",
            "31/31 [==============================] - 0s 9ms/step - loss: 16.7637 - lr: 5.0119e-08\n",
            "Epoch 16/100\n",
            "31/31 [==============================] - 0s 9ms/step - loss: 16.5849 - lr: 5.6234e-08\n",
            "Epoch 17/100\n",
            "31/31 [==============================] - 0s 9ms/step - loss: 16.3867 - lr: 6.3096e-08\n",
            "Epoch 18/100\n",
            "31/31 [==============================] - 0s 10ms/step - loss: 16.1613 - lr: 7.0795e-08\n",
            "Epoch 19/100\n",
            "31/31 [==============================] - 0s 9ms/step - loss: 15.9115 - lr: 7.9433e-08\n",
            "Epoch 20/100\n",
            "31/31 [==============================] - 0s 9ms/step - loss: 15.6263 - lr: 8.9125e-08\n",
            "Epoch 21/100\n",
            "31/31 [==============================] - 0s 8ms/step - loss: 15.3063 - lr: 1.0000e-07\n",
            "Epoch 22/100\n",
            "31/31 [==============================] - 0s 9ms/step - loss: 14.9357 - lr: 1.1220e-07\n",
            "Epoch 23/100\n",
            "31/31 [==============================] - 1s 13ms/step - loss: 14.5149 - lr: 1.2589e-07\n",
            "Epoch 24/100\n",
            "31/31 [==============================] - 1s 14ms/step - loss: 14.0308 - lr: 1.4125e-07\n",
            "Epoch 25/100\n",
            "31/31 [==============================] - 1s 12ms/step - loss: 13.4724 - lr: 1.5849e-07\n",
            "Epoch 26/100\n",
            "31/31 [==============================] - 1s 14ms/step - loss: 12.8377 - lr: 1.7783e-07\n",
            "Epoch 27/100\n",
            "31/31 [==============================] - 1s 12ms/step - loss: 12.1212 - lr: 1.9953e-07\n",
            "Epoch 28/100\n",
            "31/31 [==============================] - 1s 12ms/step - loss: 11.3220 - lr: 2.2387e-07\n",
            "Epoch 29/100\n",
            "31/31 [==============================] - 0s 10ms/step - loss: 10.4883 - lr: 2.5119e-07\n",
            "Epoch 30/100\n",
            "31/31 [==============================] - 0s 9ms/step - loss: 9.5962 - lr: 2.8184e-07\n",
            "Epoch 31/100\n",
            "31/31 [==============================] - 0s 9ms/step - loss: 8.7320 - lr: 3.1623e-07\n",
            "Epoch 32/100\n",
            "31/31 [==============================] - 0s 9ms/step - loss: 7.9372 - lr: 3.5481e-07\n",
            "Epoch 33/100\n",
            "31/31 [==============================] - 0s 9ms/step - loss: 7.2931 - lr: 3.9811e-07\n",
            "Epoch 34/100\n",
            "31/31 [==============================] - 0s 9ms/step - loss: 6.8015 - lr: 4.4668e-07\n",
            "Epoch 35/100\n",
            "31/31 [==============================] - 0s 9ms/step - loss: 6.4506 - lr: 5.0119e-07\n",
            "Epoch 36/100\n",
            "31/31 [==============================] - 0s 9ms/step - loss: 6.2420 - lr: 5.6234e-07\n",
            "Epoch 37/100\n",
            "31/31 [==============================] - 0s 9ms/step - loss: 6.0547 - lr: 6.3096e-07\n",
            "Epoch 38/100\n",
            "31/31 [==============================] - 0s 9ms/step - loss: 5.9431 - lr: 7.0795e-07\n",
            "Epoch 39/100\n",
            "31/31 [==============================] - 0s 9ms/step - loss: 5.8465 - lr: 7.9433e-07\n",
            "Epoch 40/100\n",
            "31/31 [==============================] - 0s 9ms/step - loss: 5.7579 - lr: 8.9125e-07\n",
            "Epoch 41/100\n",
            "31/31 [==============================] - 0s 9ms/step - loss: 5.6810 - lr: 1.0000e-06\n",
            "Epoch 42/100\n",
            "31/31 [==============================] - 0s 9ms/step - loss: 5.5863 - lr: 1.1220e-06\n",
            "Epoch 43/100\n",
            "31/31 [==============================] - 0s 9ms/step - loss: 5.4561 - lr: 1.2589e-06\n",
            "Epoch 44/100\n",
            "31/31 [==============================] - 0s 9ms/step - loss: 5.4004 - lr: 1.4125e-06\n",
            "Epoch 45/100\n",
            "31/31 [==============================] - 0s 10ms/step - loss: 5.2909 - lr: 1.5849e-06\n",
            "Epoch 46/100\n",
            "31/31 [==============================] - 0s 9ms/step - loss: 5.3006 - lr: 1.7783e-06\n",
            "Epoch 47/100\n",
            "31/31 [==============================] - 0s 9ms/step - loss: 5.1805 - lr: 1.9953e-06\n",
            "Epoch 48/100\n",
            "31/31 [==============================] - 0s 9ms/step - loss: 5.0923 - lr: 2.2387e-06\n",
            "Epoch 49/100\n",
            "31/31 [==============================] - 0s 9ms/step - loss: 5.0757 - lr: 2.5119e-06\n",
            "Epoch 50/100\n",
            "31/31 [==============================] - 0s 10ms/step - loss: 5.0086 - lr: 2.8184e-06\n",
            "Epoch 51/100\n",
            "31/31 [==============================] - 0s 10ms/step - loss: 5.0132 - lr: 3.1623e-06\n",
            "Epoch 52/100\n",
            "31/31 [==============================] - 1s 14ms/step - loss: 4.9267 - lr: 3.5481e-06\n",
            "Epoch 53/100\n",
            "31/31 [==============================] - 1s 13ms/step - loss: 4.8625 - lr: 3.9811e-06\n",
            "Epoch 54/100\n",
            "31/31 [==============================] - 1s 12ms/step - loss: 5.3840 - lr: 4.4668e-06\n",
            "Epoch 55/100\n",
            "31/31 [==============================] - 1s 12ms/step - loss: 4.9984 - lr: 5.0119e-06\n",
            "Epoch 56/100\n",
            "31/31 [==============================] - 1s 12ms/step - loss: 4.8476 - lr: 5.6234e-06\n",
            "Epoch 57/100\n",
            "31/31 [==============================] - 1s 13ms/step - loss: 5.0700 - lr: 6.3096e-06\n",
            "Epoch 58/100\n",
            "31/31 [==============================] - 0s 9ms/step - loss: 4.8848 - lr: 7.0795e-06\n",
            "Epoch 59/100\n",
            "31/31 [==============================] - 0s 9ms/step - loss: 4.9058 - lr: 7.9433e-06\n",
            "Epoch 60/100\n",
            "31/31 [==============================] - 0s 9ms/step - loss: 4.8751 - lr: 8.9125e-06\n",
            "Epoch 61/100\n",
            "31/31 [==============================] - 0s 9ms/step - loss: 4.8830 - lr: 1.0000e-05\n",
            "Epoch 62/100\n",
            "31/31 [==============================] - 0s 9ms/step - loss: 4.9019 - lr: 1.1220e-05\n",
            "Epoch 63/100\n",
            "31/31 [==============================] - 0s 10ms/step - loss: 4.9432 - lr: 1.2589e-05\n",
            "Epoch 64/100\n",
            "31/31 [==============================] - 0s 9ms/step - loss: 5.0923 - lr: 1.4125e-05\n",
            "Epoch 65/100\n",
            "31/31 [==============================] - 0s 9ms/step - loss: 5.2241 - lr: 1.5849e-05\n",
            "Epoch 66/100\n",
            "31/31 [==============================] - 0s 9ms/step - loss: 4.8206 - lr: 1.7783e-05\n",
            "Epoch 67/100\n",
            "31/31 [==============================] - 0s 9ms/step - loss: 4.9259 - lr: 1.9953e-05\n",
            "Epoch 68/100\n",
            "31/31 [==============================] - 0s 9ms/step - loss: 4.9330 - lr: 2.2387e-05\n",
            "Epoch 69/100\n",
            "31/31 [==============================] - 0s 9ms/step - loss: 5.9434 - lr: 2.5119e-05\n",
            "Epoch 70/100\n",
            "31/31 [==============================] - 0s 9ms/step - loss: 7.7415 - lr: 2.8184e-05\n",
            "Epoch 71/100\n",
            "31/31 [==============================] - 0s 10ms/step - loss: 5.2685 - lr: 3.1623e-05\n",
            "Epoch 72/100\n",
            "31/31 [==============================] - 0s 9ms/step - loss: 5.0783 - lr: 3.5481e-05\n",
            "Epoch 73/100\n",
            "31/31 [==============================] - 0s 10ms/step - loss: 5.3597 - lr: 3.9811e-05\n",
            "Epoch 74/100\n",
            "31/31 [==============================] - 0s 9ms/step - loss: 5.6923 - lr: 4.4668e-05\n",
            "Epoch 75/100\n",
            "31/31 [==============================] - 0s 10ms/step - loss: 5.6734 - lr: 5.0119e-05\n",
            "Epoch 76/100\n",
            "31/31 [==============================] - 0s 10ms/step - loss: 5.8707 - lr: 5.6234e-05\n",
            "Epoch 77/100\n",
            "31/31 [==============================] - 0s 10ms/step - loss: 5.3022 - lr: 6.3096e-05\n",
            "Epoch 78/100\n",
            "31/31 [==============================] - 1s 12ms/step - loss: 9.7083 - lr: 7.0795e-05\n",
            "Epoch 79/100\n",
            "31/31 [==============================] - 1s 12ms/step - loss: 5.7483 - lr: 7.9433e-05\n",
            "Epoch 80/100\n",
            "31/31 [==============================] - 1s 13ms/step - loss: 6.1852 - lr: 8.9125e-05\n",
            "Epoch 81/100\n",
            "31/31 [==============================] - 1s 13ms/step - loss: 5.7384 - lr: 1.0000e-04\n",
            "Epoch 82/100\n",
            "31/31 [==============================] - 1s 13ms/step - loss: 7.1742 - lr: 1.1220e-04\n",
            "Epoch 83/100\n",
            "31/31 [==============================] - 1s 15ms/step - loss: 6.0590 - lr: 1.2589e-04\n",
            "Epoch 84/100\n",
            "31/31 [==============================] - 0s 10ms/step - loss: 9.2802 - lr: 1.4125e-04\n",
            "Epoch 85/100\n",
            "31/31 [==============================] - 0s 10ms/step - loss: 7.3135 - lr: 1.5849e-04\n",
            "Epoch 86/100\n",
            "31/31 [==============================] - 0s 10ms/step - loss: 5.6437 - lr: 1.7783e-04\n",
            "Epoch 87/100\n",
            "31/31 [==============================] - 0s 9ms/step - loss: 13.9726 - lr: 1.9953e-04\n",
            "Epoch 88/100\n",
            "31/31 [==============================] - 0s 9ms/step - loss: 8.9518 - lr: 2.2387e-04\n",
            "Epoch 89/100\n",
            "31/31 [==============================] - 0s 9ms/step - loss: 6.8972 - lr: 2.5119e-04\n",
            "Epoch 90/100\n",
            "31/31 [==============================] - 0s 10ms/step - loss: 9.0521 - lr: 2.8184e-04\n",
            "Epoch 91/100\n",
            "31/31 [==============================] - 0s 10ms/step - loss: 6.1169 - lr: 3.1623e-04\n",
            "Epoch 92/100\n",
            "31/31 [==============================] - 0s 11ms/step - loss: 10.9835 - lr: 3.5481e-04\n",
            "Epoch 93/100\n",
            "31/31 [==============================] - 0s 10ms/step - loss: 9.5978 - lr: 3.9811e-04\n",
            "Epoch 94/100\n",
            "31/31 [==============================] - 0s 10ms/step - loss: 7.4469 - lr: 4.4668e-04\n",
            "Epoch 95/100\n",
            "31/31 [==============================] - 0s 10ms/step - loss: 7.4368 - lr: 5.0119e-04\n",
            "Epoch 96/100\n",
            "31/31 [==============================] - 0s 10ms/step - loss: 7.1863 - lr: 5.6234e-04\n",
            "Epoch 97/100\n",
            "31/31 [==============================] - 0s 10ms/step - loss: 7.8728 - lr: 6.3096e-04\n",
            "Epoch 98/100\n",
            "31/31 [==============================] - 0s 10ms/step - loss: 9.7412 - lr: 7.0795e-04\n",
            "Epoch 99/100\n",
            "31/31 [==============================] - 0s 9ms/step - loss: 8.3773 - lr: 7.9433e-04\n",
            "Epoch 100/100\n",
            "31/31 [==============================] - 0s 9ms/step - loss: 11.0044 - lr: 8.9125e-04\n"
          ]
        }
      ],
      "source": [
        "# Set the learning rate scheduler\n",
        "lr_schedule = tf.keras.callbacks.LearningRateScheduler(\n",
        "    lambda epoch: 1e-8 * 10**(epoch / 20))\n",
        "\n",
        "# Initialize the optimizer\n",
        "optimizer = tf.keras.optimizers.SGD(momentum=0.9)\n",
        "\n",
        "# Set the training parameters\n",
        "model_tune.compile(loss=tf.keras.losses.Huber(), optimizer=optimizer)\n",
        "\n",
        "# Train the model\n",
        "history = model_tune.fit(dataset, epochs=100, callbacks=[lr_schedule])"
      ]
    },
    {
      "cell_type": "code",
      "execution_count": 10,
      "metadata": {
        "id": "AkBsrsXMzoWR",
        "colab": {
          "base_uri": "https://localhost:8080/",
          "height": 558
        },
        "outputId": "53bda9ff-1aab-488a-a203-6d2ab7d8e5bb"
      },
      "outputs": [
        {
          "output_type": "execute_result",
          "data": {
            "text/plain": [
              "(1e-08, 0.001, 0.0, 30.0)"
            ]
          },
          "metadata": {},
          "execution_count": 10
        },
        {
          "output_type": "display_data",
          "data": {
            "text/plain": [
              "<Figure size 1000x600 with 1 Axes>"
            ],
            "image/png": "[encoded data removed]"
          },
          "metadata": {}
        }
      ],
      "source": [
        "# Define the learning rate array\n",
        "lrs = 1e-8 * (10 ** (np.arange(100) / 20))\n",
        "\n",
        "# Set the figure size\n",
        "plt.figure(figsize=(10, 6))\n",
        "\n",
        "# Set the grid\n",
        "plt.grid(True)\n",
        "\n",
        "# Plot the loss in log scale\n",
        "plt.semilogx(lrs, history.history[\"loss\"])\n",
        "\n",
        "# Increase the tickmarks size\n",
        "plt.tick_params('both', length=10, width=1, which='both')\n",
        "\n",
        "# Set the plot boundaries\n",
        "plt.axis([1e-8, 1e-3, 0, 30])"
      ]
    },
    {
      "cell_type": "markdown",
      "metadata": {
        "id": "i-lKNp4pq_w8"
      },
      "source": [
        "## Train the Model\n",
        "\n",
        "You can then proceed to train the model with your chosen learning rate.\n",
        "\n",
        "*Tip: When experimenting and you find yourself running different iterations of a model, you may want to use the [`clear_session()`](https://www.tensorflow.org/api_docs/python/tf/keras/backend/clear_session) method to declutter memory used by Keras. This is added in the first line below.*\n"
      ]
    },
    {
      "cell_type": "code",
      "execution_count": 11,
      "metadata": {
        "id": "4uh-97bpLZCA",
        "colab": {
          "base_uri": "https://localhost:8080/"
        },
        "outputId": "ef9b2f4c-a942-4ef8-ad16-efafe23bc596"
      },
      "outputs": [
        {
          "output_type": "stream",
          "name": "stdout",
          "text": [
            "Epoch 1/100\n",
            "31/31 [==============================] - 7s 10ms/step - loss: 28.4105 - mae: 28.9059\n",
            "Epoch 2/100\n",
            "31/31 [==============================] - 0s 9ms/step - loss: 16.2566 - mae: 16.7504\n",
            "Epoch 3/100\n",
            "31/31 [==============================] - 0s 10ms/step - loss: 12.7902 - mae: 13.2805\n",
            "Epoch 4/100\n",
            "31/31 [==============================] - 0s 10ms/step - loss: 10.6980 - mae: 11.1870\n",
            "Epoch 5/100\n",
            "31/31 [==============================] - 0s 10ms/step - loss: 9.4939 - mae: 9.9776\n",
            "Epoch 6/100\n",
            "31/31 [==============================] - 0s 10ms/step - loss: 8.6650 - mae: 9.1467\n",
            "Epoch 7/100\n",
            "31/31 [==============================] - 0s 9ms/step - loss: 8.2744 - mae: 8.7566\n",
            "Epoch 8/100\n",
            "31/31 [==============================] - 0s 9ms/step - loss: 8.0748 - mae: 8.5582\n",
            "Epoch 9/100\n",
            "31/31 [==============================] - 0s 9ms/step - loss: 7.8899 - mae: 8.3723\n",
            "Epoch 10/100\n",
            "31/31 [==============================] - 0s 10ms/step - loss: 7.6184 - mae: 8.1039\n",
            "Epoch 11/100\n",
            "31/31 [==============================] - 0s 9ms/step - loss: 7.5364 - mae: 8.0192\n",
            "Epoch 12/100\n",
            "31/31 [==============================] - 0s 9ms/step - loss: 7.3095 - mae: 7.7911\n",
            "Epoch 13/100\n",
            "31/31 [==============================] - 0s 9ms/step - loss: 7.2377 - mae: 7.7176\n",
            "Epoch 14/100\n",
            "31/31 [==============================] - 0s 9ms/step - loss: 7.0715 - mae: 7.5540\n",
            "Epoch 15/100\n",
            "31/31 [==============================] - 0s 10ms/step - loss: 7.0098 - mae: 7.4908\n",
            "Epoch 16/100\n",
            "31/31 [==============================] - 0s 13ms/step - loss: 6.8959 - mae: 7.3784\n",
            "Epoch 17/100\n",
            "31/31 [==============================] - 1s 13ms/step - loss: 6.8421 - mae: 7.3242\n",
            "Epoch 18/100\n",
            "31/31 [==============================] - 1s 13ms/step - loss: 6.6235 - mae: 7.1068\n",
            "Epoch 19/100\n",
            "31/31 [==============================] - 1s 14ms/step - loss: 6.5842 - mae: 7.0664\n",
            "Epoch 20/100\n",
            "31/31 [==============================] - 1s 14ms/step - loss: 6.5440 - mae: 7.0260\n",
            "Epoch 21/100\n",
            "31/31 [==============================] - 1s 14ms/step - loss: 6.4232 - mae: 6.9035\n",
            "Epoch 22/100\n",
            "31/31 [==============================] - 0s 9ms/step - loss: 6.4763 - mae: 6.9595\n",
            "Epoch 23/100\n",
            "31/31 [==============================] - 0s 9ms/step - loss: 6.4243 - mae: 6.9059\n",
            "Epoch 24/100\n",
            "31/31 [==============================] - 0s 12ms/step - loss: 6.2969 - mae: 6.7786\n",
            "Epoch 25/100\n",
            "31/31 [==============================] - 1s 12ms/step - loss: 6.2260 - mae: 6.7063\n",
            "Epoch 26/100\n",
            "31/31 [==============================] - 1s 23ms/step - loss: 6.1430 - mae: 6.6268\n",
            "Epoch 27/100\n",
            "31/31 [==============================] - 1s 18ms/step - loss: 6.0158 - mae: 6.4934\n",
            "Epoch 28/100\n",
            "31/31 [==============================] - 0s 9ms/step - loss: 5.9808 - mae: 6.4604\n",
            "Epoch 29/100\n",
            "31/31 [==============================] - 0s 10ms/step - loss: 6.0176 - mae: 6.4971\n",
            "Epoch 30/100\n",
            "31/31 [==============================] - 0s 9ms/step - loss: 5.9020 - mae: 6.3865\n",
            "Epoch 31/100\n",
            "31/31 [==============================] - 0s 9ms/step - loss: 5.9591 - mae: 6.4400\n",
            "Epoch 32/100\n",
            "31/31 [==============================] - 0s 9ms/step - loss: 5.8536 - mae: 6.3382\n",
            "Epoch 33/100\n",
            "31/31 [==============================] - 0s 10ms/step - loss: 5.7162 - mae: 6.1961\n",
            "Epoch 34/100\n",
            "31/31 [==============================] - 0s 10ms/step - loss: 5.6649 - mae: 6.1496\n",
            "Epoch 35/100\n",
            "31/31 [==============================] - 0s 9ms/step - loss: 5.6257 - mae: 6.1051\n",
            "Epoch 36/100\n",
            "31/31 [==============================] - 0s 10ms/step - loss: 5.6846 - mae: 6.1624\n",
            "Epoch 37/100\n",
            "31/31 [==============================] - 0s 9ms/step - loss: 5.5540 - mae: 6.0360\n",
            "Epoch 38/100\n",
            "31/31 [==============================] - 0s 13ms/step - loss: 5.4562 - mae: 5.9352\n",
            "Epoch 39/100\n",
            "31/31 [==============================] - 1s 14ms/step - loss: 5.5296 - mae: 6.0060\n",
            "Epoch 40/100\n",
            "31/31 [==============================] - 1s 13ms/step - loss: 5.5116 - mae: 5.9941\n",
            "Epoch 41/100\n",
            "31/31 [==============================] - 1s 14ms/step - loss: 5.3555 - mae: 5.8333\n",
            "Epoch 42/100\n",
            "31/31 [==============================] - 1s 14ms/step - loss: 5.3010 - mae: 5.7796\n",
            "Epoch 43/100\n",
            "31/31 [==============================] - 0s 9ms/step - loss: 5.4156 - mae: 5.8951\n",
            "Epoch 44/100\n",
            "31/31 [==============================] - 0s 10ms/step - loss: 5.3414 - mae: 5.8224\n",
            "Epoch 45/100\n",
            "31/31 [==============================] - 0s 10ms/step - loss: 5.2190 - mae: 5.6947\n",
            "Epoch 46/100\n",
            "31/31 [==============================] - 0s 10ms/step - loss: 5.2130 - mae: 5.6936\n",
            "Epoch 47/100\n",
            "31/31 [==============================] - 0s 11ms/step - loss: 5.1994 - mae: 5.6760\n",
            "Epoch 48/100\n",
            "31/31 [==============================] - 0s 11ms/step - loss: 5.3302 - mae: 5.8073\n",
            "Epoch 49/100\n",
            "31/31 [==============================] - 0s 10ms/step - loss: 5.2359 - mae: 5.7074\n",
            "Epoch 50/100\n",
            "31/31 [==============================] - 0s 10ms/step - loss: 5.1829 - mae: 5.6623\n",
            "Epoch 51/100\n",
            "31/31 [==============================] - 0s 10ms/step - loss: 5.1477 - mae: 5.6277\n",
            "Epoch 52/100\n",
            "31/31 [==============================] - 0s 10ms/step - loss: 5.2025 - mae: 5.6794\n",
            "Epoch 53/100\n",
            "31/31 [==============================] - 0s 10ms/step - loss: 5.1072 - mae: 5.5848\n",
            "Epoch 54/100\n",
            "31/31 [==============================] - 0s 10ms/step - loss: 5.2626 - mae: 5.7408\n",
            "Epoch 55/100\n",
            "31/31 [==============================] - 0s 10ms/step - loss: 5.1022 - mae: 5.5837\n",
            "Epoch 56/100\n",
            "31/31 [==============================] - 0s 10ms/step - loss: 5.0614 - mae: 5.5410\n",
            "Epoch 57/100\n",
            "31/31 [==============================] - 0s 10ms/step - loss: 5.0744 - mae: 5.5527\n",
            "Epoch 58/100\n",
            "31/31 [==============================] - 0s 10ms/step - loss: 5.0646 - mae: 5.5423\n",
            "Epoch 59/100\n",
            "31/31 [==============================] - 0s 10ms/step - loss: 5.2230 - mae: 5.6988\n",
            "Epoch 60/100\n",
            "31/31 [==============================] - 0s 10ms/step - loss: 5.0222 - mae: 5.5002\n",
            "Epoch 61/100\n",
            "31/31 [==============================] - 0s 9ms/step - loss: 4.9539 - mae: 5.4334\n",
            "Epoch 62/100\n",
            "31/31 [==============================] - 0s 10ms/step - loss: 5.0339 - mae: 5.5138\n",
            "Epoch 63/100\n",
            "31/31 [==============================] - 0s 10ms/step - loss: 4.9199 - mae: 5.3977\n",
            "Epoch 64/100\n",
            "31/31 [==============================] - 1s 14ms/step - loss: 4.8773 - mae: 5.3576\n",
            "Epoch 65/100\n",
            "31/31 [==============================] - 1s 14ms/step - loss: 4.9138 - mae: 5.3906\n",
            "Epoch 66/100\n",
            "31/31 [==============================] - 1s 14ms/step - loss: 4.8904 - mae: 5.3703\n",
            "Epoch 67/100\n",
            "31/31 [==============================] - 1s 14ms/step - loss: 4.8131 - mae: 5.2948\n",
            "Epoch 68/100\n",
            "31/31 [==============================] - 1s 13ms/step - loss: 4.8559 - mae: 5.3326\n",
            "Epoch 69/100\n",
            "31/31 [==============================] - 1s 13ms/step - loss: 4.8413 - mae: 5.3206\n",
            "Epoch 70/100\n",
            "31/31 [==============================] - 0s 10ms/step - loss: 4.8547 - mae: 5.3304\n",
            "Epoch 71/100\n",
            "31/31 [==============================] - 0s 10ms/step - loss: 5.0141 - mae: 5.4928\n",
            "Epoch 72/100\n",
            "31/31 [==============================] - 0s 9ms/step - loss: 4.8386 - mae: 5.3187\n",
            "Epoch 73/100\n",
            "31/31 [==============================] - 0s 10ms/step - loss: 4.8714 - mae: 5.3459\n",
            "Epoch 74/100\n",
            "31/31 [==============================] - 0s 9ms/step - loss: 4.8170 - mae: 5.2949\n",
            "Epoch 75/100\n",
            "31/31 [==============================] - 0s 10ms/step - loss: 4.7530 - mae: 5.2293\n",
            "Epoch 76/100\n",
            "31/31 [==============================] - 0s 9ms/step - loss: 4.7531 - mae: 5.2304\n",
            "Epoch 77/100\n",
            "31/31 [==============================] - 0s 10ms/step - loss: 4.7392 - mae: 5.2137\n",
            "Epoch 78/100\n",
            "31/31 [==============================] - 0s 10ms/step - loss: 4.7720 - mae: 5.2505\n",
            "Epoch 79/100\n",
            "31/31 [==============================] - 0s 9ms/step - loss: 4.8443 - mae: 5.3186\n",
            "Epoch 80/100\n",
            "31/31 [==============================] - 0s 10ms/step - loss: 4.6582 - mae: 5.1330\n",
            "Epoch 81/100\n",
            "31/31 [==============================] - 0s 10ms/step - loss: 4.6699 - mae: 5.1483\n",
            "Epoch 82/100\n",
            "31/31 [==============================] - 0s 10ms/step - loss: 4.7484 - mae: 5.2229\n",
            "Epoch 83/100\n",
            "31/31 [==============================] - 0s 10ms/step - loss: 4.8342 - mae: 5.3132\n",
            "Epoch 84/100\n",
            "31/31 [==============================] - 0s 10ms/step - loss: 4.8156 - mae: 5.2925\n",
            "Epoch 85/100\n",
            "31/31 [==============================] - 0s 10ms/step - loss: 4.6683 - mae: 5.1468\n",
            "Epoch 86/100\n",
            "31/31 [==============================] - 0s 10ms/step - loss: 4.6948 - mae: 5.1752\n",
            "Epoch 87/100\n",
            "31/31 [==============================] - 0s 10ms/step - loss: 4.6343 - mae: 5.1109\n",
            "Epoch 88/100\n",
            "31/31 [==============================] - 0s 9ms/step - loss: 4.6388 - mae: 5.1122\n",
            "Epoch 89/100\n",
            "31/31 [==============================] - 0s 10ms/step - loss: 4.8144 - mae: 5.2942\n",
            "Epoch 90/100\n",
            "31/31 [==============================] - 0s 10ms/step - loss: 4.6667 - mae: 5.1450\n",
            "Epoch 91/100\n",
            "31/31 [==============================] - 0s 11ms/step - loss: 4.6678 - mae: 5.1426\n",
            "Epoch 92/100\n",
            "31/31 [==============================] - 0s 13ms/step - loss: 4.5871 - mae: 5.0639\n",
            "Epoch 93/100\n",
            "31/31 [==============================] - 1s 15ms/step - loss: 4.8338 - mae: 5.3153\n",
            "Epoch 94/100\n",
            "31/31 [==============================] - 1s 14ms/step - loss: 4.6922 - mae: 5.1739\n",
            "Epoch 95/100\n",
            "31/31 [==============================] - 1s 13ms/step - loss: 4.6775 - mae: 5.1519\n",
            "Epoch 96/100\n",
            "31/31 [==============================] - 1s 14ms/step - loss: 4.6780 - mae: 5.1559\n",
            "Epoch 97/100\n",
            "31/31 [==============================] - 0s 10ms/step - loss: 4.7116 - mae: 5.1839\n",
            "Epoch 98/100\n",
            "31/31 [==============================] - 0s 10ms/step - loss: 4.6464 - mae: 5.1225\n",
            "Epoch 99/100\n",
            "31/31 [==============================] - 0s 9ms/step - loss: 4.6440 - mae: 5.1181\n",
            "Epoch 100/100\n",
            "31/31 [==============================] - 0s 10ms/step - loss: 4.5399 - mae: 5.0163\n"
          ]
        }
      ],
      "source": [
        "# Reset states generated by Keras\n",
        "tf.keras.backend.clear_session()\n",
        "\n",
        "# Build the model\n",
        "model = tf.keras.models.Sequential([\n",
        "  tf.keras.layers.Lambda(lambda x: tf.expand_dims(x, axis=-1),\n",
        "                      input_shape=[None]),\n",
        "   tf.keras.layers.Bidirectional(tf.keras.layers.LSTM(32, return_sequences=True)),\n",
        "  tf.keras.layers.Bidirectional(tf.keras.layers.LSTM(32)),\n",
        "  tf.keras.layers.Dense(1),\n",
        "  tf.keras.layers.Lambda(lambda x: x * 100.0)\n",
        "])\n",
        "\n",
        "# Set the learning rate\n",
        "learning_rate = 2e-6\n",
        "\n",
        "# Set the optimizer\n",
        "optimizer = tf.keras.optimizers.SGD(learning_rate=learning_rate, momentum=0.9)\n",
        "\n",
        "# Set the training parameters\n",
        "model.compile(loss=tf.keras.losses.Huber(),\n",
        "              optimizer=optimizer,\n",
        "              metrics=[\"mae\"])\n",
        "\n",
        "# Train the model\n",
        "history = model.fit(dataset,epochs=100)"
      ]
    },
    {
      "cell_type": "markdown",
      "metadata": {
        "id": "RjP4kbGiI7cw"
      },
      "source": [
        "## Model Prediction\n",
        "\n",
        "You will then generate batches of windows to generate predictions that align with the validation set."
      ]
    },
    {
      "cell_type": "code",
      "execution_count": 12,
      "metadata": {
        "id": "QO8cfKwKBBG6"
      },
      "outputs": [],
      "source": [
        "def model_forecast(model, series, window_size, batch_size):\n",
        "    \"\"\"Uses an input model to generate predictions on data windows\n",
        "\n",
        "    Args:\n",
        "      model (TF Keras Model) - model that accepts data windows\n",
        "      series (array of float) - contains the values of the time series\n",
        "      window_size (int) - the number of time steps to include in the window\n",
        "      batch_size (int) - the batch size\n",
        "\n",
        "    Returns:\n",
        "      forecast (numpy array) - array containing predictions\n",
        "    \"\"\"\n",
        "\n",
        "    # Generate a TF Dataset from the series values\n",
        "    dataset = tf.data.Dataset.from_tensor_slices(series)\n",
        "\n",
        "    # Window the data but only take those with the specified size\n",
        "    dataset = dataset.window(window_size, shift=1, drop_remainder=True)\n",
        "\n",
        "    # Flatten the windows by putting its elements in a single batch\n",
        "    dataset = dataset.flat_map(lambda w: w.batch(window_size))\n",
        "\n",
        "    # Create batches of windows\n",
        "    dataset = dataset.batch(batch_size).prefetch(1)\n",
        "\n",
        "    # Get predictions on the entire dataset\n",
        "    forecast = model.predict(dataset)\n",
        "\n",
        "    return forecast"
      ]
    },
    {
      "cell_type": "code",
      "execution_count": 13,
      "metadata": {
        "id": "_plB3UseBD8o",
        "colab": {
          "base_uri": "https://localhost:8080/",
          "height": 559
        },
        "outputId": "40eeba9f-7ec8-413c-ec5f-36518b584789"
      },
      "outputs": [
        {
          "output_type": "stream",
          "name": "stdout",
          "text": [
            "15/15 [==============================] - 1s 6ms/step\n"
          ]
        },
        {
          "output_type": "display_data",
          "data": {
            "text/plain": [
              "<Figure size 1000x600 with 1 Axes>"
            ],
            "image/png": "[encoded data removed]"
          },
          "metadata": {}
        }
      ],
      "source": [
        "# Reduce the original series\n",
        "forecast_series = series[split_time-window_size:-1]\n",
        "\n",
        "# Use helper function to generate predictions\n",
        "forecast = model_forecast(model, forecast_series, window_size, batch_size)\n",
        "\n",
        "# Drop single dimensional axis\n",
        "results = forecast.squeeze()\n",
        "\n",
        "# Plot the results\n",
        "plot_series(time_valid, (x_valid, results))"
      ]
    },
    {
      "cell_type": "markdown",
      "metadata": {
        "id": "Nn8iSQkZtaRC"
      },
      "source": [
        "You can then generate the metrics to evaluate the model's performance."
      ]
    },
    {
      "cell_type": "code",
      "execution_count": 14,
      "metadata": {
        "id": "-IKhueZaBGID",
        "colab": {
          "base_uri": "https://localhost:8080/"
        },
        "outputId": "0c8e5dcb-3645-4595-c4da-cec479d078ca"
      },
      "outputs": [
        {
          "output_type": "stream",
          "name": "stdout",
          "text": [
            "80.16303\n",
            "6.4707685\n"
          ]
        }
      ],
      "source": [
        "# Compute the MSE and MAE\n",
        "print(tf.keras.metrics.mean_squared_error(x_valid, results).numpy())\n",
        "print(tf.keras.metrics.mean_absolute_error(x_valid, results).numpy())"
      ]
    },
    {
      "cell_type": "markdown",
      "metadata": {
        "id": "bzPIqeMWvbPy"
      },
      "source": [
        "## Wrap Up\n",
        "\n",
        "This concludes this short exercise on using LSTMs for time series forecasting. Next week, you will build upon this and add convolutions. Then, you will start to move away from synthetic data and use real-world datasets. See you there!"
      ]
    },
    {
      "cell_type": "markdown",
      "metadata": {
        "id": "U5PqTePGHeMH"
      },
      "source": [
        "## Optional: Including a Validation Set while Training\n",
        "\n",
        "Back in the first course of this specialization, you saw how you can also monitor the performance of your model against a validation set while training. You can also do that for this lab.\n",
        "\n",
        "First, you need to generate a `val_set` which are data windows and labels that your model can accept. You can simply reuse the `windowed_dataset` function for that and you can pass in the `x_valid` points to generate the windows."
      ]
    },
    {
      "cell_type": "code",
      "execution_count": 15,
      "metadata": {
        "id": "kvFVwL3PC4iX"
      },
      "outputs": [],
      "source": [
        "# Generate data windows of the validation set\n",
        "val_set = windowed_dataset(x_valid, window_size, batch_size, shuffle_buffer_size)"
      ]
    },
    {
      "cell_type": "markdown",
      "metadata": {
        "id": "p68j6XxEvP9K"
      },
      "source": [
        "You can then do the same training as before but pass in the `val_set` to the `validation_data` parameter of the `fit()` method."
      ]
    },
    {
      "cell_type": "code",
      "execution_count": null,
      "metadata": {
        "id": "wujKz6tXDSn0",
        "colab": {
          "base_uri": "https://localhost:8080/"
        },
        "outputId": "d5e946a0-ac50-4b04-f7cb-3c0f8a40db7b"
      },
      "outputs": [
        {
          "output_type": "stream",
          "name": "stdout",
          "text": [
            "Epoch 1/100\n",
            "31/31 [==============================] - 9s 76ms/step - loss: 11.6654 - mae: 12.1568 - val_loss: 24.3880 - val_mae: 24.8869\n",
            "Epoch 2/100\n",
            "31/31 [==============================] - 0s 13ms/step - loss: 8.3274 - mae: 8.8117 - val_loss: 14.7265 - val_mae: 15.2219\n",
            "Epoch 3/100\n",
            "31/31 [==============================] - 0s 13ms/step - loss: 6.5659 - mae: 7.0456 - val_loss: 10.6648 - val_mae: 11.1530\n",
            "Epoch 4/100\n",
            "31/31 [==============================] - 0s 13ms/step - loss: 6.2995 - mae: 6.7827 - val_loss: 10.3571 - val_mae: 10.8458\n",
            "Epoch 5/100\n",
            "31/31 [==============================] - 0s 13ms/step - loss: 6.0535 - mae: 6.5317 - val_loss: 11.8699 - val_mae: 12.3645\n",
            "Epoch 6/100\n",
            "31/31 [==============================] - 1s 13ms/step - loss: 6.0681 - mae: 6.5478 - val_loss: 9.0781 - val_mae: 9.5640\n",
            "Epoch 7/100\n",
            "31/31 [==============================] - 1s 15ms/step - loss: 5.9365 - mae: 6.4183 - val_loss: 8.9693 - val_mae: 9.4539\n",
            "Epoch 8/100\n",
            "31/31 [==============================] - 0s 13ms/step - loss: 5.7780 - mae: 6.2584 - val_loss: 9.1956 - val_mae: 9.6829\n",
            "Epoch 9/100\n",
            "31/31 [==============================] - 0s 13ms/step - loss: 5.7463 - mae: 6.2252 - val_loss: 8.8866 - val_mae: 9.3730\n",
            "Epoch 10/100\n",
            "31/31 [==============================] - 0s 14ms/step - loss: 5.7339 - mae: 6.2123 - val_loss: 8.3981 - val_mae: 8.8839\n",
            "Epoch 11/100\n",
            "31/31 [==============================] - 1s 14ms/step - loss: 5.7057 - mae: 6.1838 - val_loss: 8.2031 - val_mae: 8.6882\n",
            "Epoch 12/100\n",
            "31/31 [==============================] - 0s 13ms/step - loss: 5.6302 - mae: 6.1057 - val_loss: 7.9699 - val_mae: 8.4560\n",
            "Epoch 13/100\n",
            "31/31 [==============================] - 1s 14ms/step - loss: 5.5966 - mae: 6.0745 - val_loss: 7.8544 - val_mae: 8.3415\n",
            "Epoch 14/100\n",
            "31/31 [==============================] - 1s 14ms/step - loss: 5.4895 - mae: 5.9682 - val_loss: 7.3133 - val_mae: 7.7964\n",
            "Epoch 15/100\n",
            "31/31 [==============================] - 0s 13ms/step - loss: 5.4961 - mae: 5.9735 - val_loss: 7.6341 - val_mae: 8.1221\n",
            "Epoch 16/100\n",
            "31/31 [==============================] - 1s 14ms/step - loss: 5.4630 - mae: 5.9472 - val_loss: 7.3855 - val_mae: 7.8706\n",
            "Epoch 17/100\n",
            "31/31 [==============================] - 1s 14ms/step - loss: 5.4143 - mae: 5.8925 - val_loss: 7.6127 - val_mae: 8.0970\n",
            "Epoch 18/100\n",
            "31/31 [==============================] - 0s 13ms/step - loss: 5.5290 - mae: 6.0026 - val_loss: 7.4007 - val_mae: 7.8877\n",
            "Epoch 19/100\n",
            "31/31 [==============================] - 1s 13ms/step - loss: 5.3191 - mae: 5.7962 - val_loss: 7.1600 - val_mae: 7.6420\n",
            "Epoch 20/100\n",
            "31/31 [==============================] - 1s 20ms/step - loss: 5.3071 - mae: 5.7813 - val_loss: 7.7770 - val_mae: 8.2604\n",
            "Epoch 21/100\n",
            "31/31 [==============================] - 1s 23ms/step - loss: 5.2491 - mae: 5.7277 - val_loss: 7.9961 - val_mae: 8.4817\n",
            "Epoch 22/100\n",
            "31/31 [==============================] - 1s 24ms/step - loss: 5.2063 - mae: 5.6816 - val_loss: 7.4551 - val_mae: 7.9396\n",
            "Epoch 23/100\n",
            "31/31 [==============================] - 1s 16ms/step - loss: 5.2206 - mae: 5.7011 - val_loss: 7.6130 - val_mae: 8.0979\n",
            "Epoch 24/100\n",
            "31/31 [==============================] - 0s 13ms/step - loss: 5.2163 - mae: 5.6960 - val_loss: 8.0327 - val_mae: 8.5198\n",
            "Epoch 25/100\n",
            "31/31 [==============================] - 1s 14ms/step - loss: 5.1913 - mae: 5.6639 - val_loss: 7.5016 - val_mae: 7.9858\n",
            "Epoch 26/100\n",
            "31/31 [==============================] - 1s 15ms/step - loss: 5.2140 - mae: 5.6928 - val_loss: 7.1812 - val_mae: 7.6626\n",
            "Epoch 27/100\n",
            "31/31 [==============================] - 1s 13ms/step - loss: 5.2853 - mae: 5.7627 - val_loss: 6.8281 - val_mae: 7.3146\n",
            "Epoch 28/100\n",
            "31/31 [==============================] - 1s 14ms/step - loss: 5.1554 - mae: 5.6338 - val_loss: 6.7769 - val_mae: 7.2650\n",
            "Epoch 29/100\n",
            "31/31 [==============================] - 1s 15ms/step - loss: 5.1170 - mae: 5.5927 - val_loss: 6.4806 - val_mae: 6.9655\n",
            "Epoch 30/100\n",
            "31/31 [==============================] - 1s 14ms/step - loss: 5.0792 - mae: 5.5571 - val_loss: 7.4197 - val_mae: 7.9023\n",
            "Epoch 31/100\n",
            "31/31 [==============================] - 1s 14ms/step - loss: 5.0885 - mae: 5.5629 - val_loss: 7.0531 - val_mae: 7.5338\n",
            "Epoch 32/100\n",
            "31/31 [==============================] - 1s 13ms/step - loss: 5.0928 - mae: 5.5710 - val_loss: 6.5238 - val_mae: 7.0085\n",
            "Epoch 33/100\n",
            "31/31 [==============================] - 1s 14ms/step - loss: 5.0297 - mae: 5.5078 - val_loss: 6.6901 - val_mae: 7.1729\n",
            "Epoch 34/100\n",
            "31/31 [==============================] - 1s 13ms/step - loss: 5.0505 - mae: 5.5279 - val_loss: 7.2854 - val_mae: 7.7677\n",
            "Epoch 35/100\n",
            "31/31 [==============================] - 1s 15ms/step - loss: 5.0997 - mae: 5.5779 - val_loss: 7.2461 - val_mae: 7.7284\n",
            "Epoch 36/100\n",
            "31/31 [==============================] - 1s 15ms/step - loss: 5.0118 - mae: 5.4872 - val_loss: 6.7273 - val_mae: 7.2063\n",
            "Epoch 37/100\n",
            "31/31 [==============================] - 1s 14ms/step - loss: 4.9975 - mae: 5.4732 - val_loss: 7.1024 - val_mae: 7.5835\n",
            "Epoch 38/100\n",
            "31/31 [==============================] - 1s 14ms/step - loss: 5.0245 - mae: 5.4992 - val_loss: 6.7618 - val_mae: 7.2404\n",
            "Epoch 39/100\n",
            "31/31 [==============================] - 1s 13ms/step - loss: 4.9893 - mae: 5.4665 - val_loss: 6.5396 - val_mae: 7.0203\n",
            "Epoch 40/100\n",
            "31/31 [==============================] - 1s 24ms/step - loss: 4.9185 - mae: 5.3951 - val_loss: 7.1336 - val_mae: 7.6153\n",
            "Epoch 41/100\n",
            "31/31 [==============================] - 1s 24ms/step - loss: 4.9288 - mae: 5.4038 - val_loss: 6.6148 - val_mae: 7.0927\n",
            "Epoch 42/100\n",
            "31/31 [==============================] - 1s 24ms/step - loss: 4.8875 - mae: 5.3634 - val_loss: 6.4445 - val_mae: 6.9234\n",
            "Epoch 43/100\n",
            "31/31 [==============================] - 1s 13ms/step - loss: 4.9332 - mae: 5.4079 - val_loss: 6.7831 - val_mae: 7.2636\n",
            "Epoch 44/100\n",
            "31/31 [==============================] - 0s 12ms/step - loss: 4.8811 - mae: 5.3572 - val_loss: 6.2784 - val_mae: 6.7581\n",
            "Epoch 45/100\n",
            "31/31 [==============================] - 0s 13ms/step - loss: 4.8718 - mae: 5.3513 - val_loss: 6.3623 - val_mae: 6.8398\n",
            "Epoch 46/100\n",
            "31/31 [==============================] - 1s 15ms/step - loss: 4.9102 - mae: 5.3892 - val_loss: 6.9056 - val_mae: 7.3895\n",
            "Epoch 47/100\n",
            "31/31 [==============================] - 1s 14ms/step - loss: 4.8440 - mae: 5.3192 - val_loss: 6.4287 - val_mae: 6.9064\n",
            "Epoch 48/100\n",
            "31/31 [==============================] - 1s 15ms/step - loss: 4.8484 - mae: 5.3287 - val_loss: 6.3802 - val_mae: 6.8572\n",
            "Epoch 49/100\n",
            "31/31 [==============================] - 1s 15ms/step - loss: 4.8541 - mae: 5.3325 - val_loss: 6.1818 - val_mae: 6.6632\n",
            "Epoch 50/100\n",
            "31/31 [==============================] - 1s 15ms/step - loss: 4.8925 - mae: 5.3716 - val_loss: 6.5042 - val_mae: 6.9802\n",
            "Epoch 51/100\n",
            "31/31 [==============================] - 0s 13ms/step - loss: 4.8889 - mae: 5.3621 - val_loss: 6.4313 - val_mae: 6.9092\n",
            "Epoch 52/100\n",
            "31/31 [==============================] - 1s 15ms/step - loss: 4.8111 - mae: 5.2857 - val_loss: 6.4898 - val_mae: 6.9673\n",
            "Epoch 53/100\n",
            "31/31 [==============================] - 1s 14ms/step - loss: 4.8311 - mae: 5.3084 - val_loss: 6.9850 - val_mae: 7.4665\n",
            "Epoch 54/100\n",
            "31/31 [==============================] - 1s 13ms/step - loss: 4.8372 - mae: 5.3169 - val_loss: 6.5833 - val_mae: 7.0633\n",
            "Epoch 55/100\n",
            "31/31 [==============================] - 1s 15ms/step - loss: 4.8390 - mae: 5.3178 - val_loss: 6.0391 - val_mae: 6.5237\n",
            "Epoch 56/100\n",
            "31/31 [==============================] - 1s 14ms/step - loss: 4.9635 - mae: 5.4398 - val_loss: 6.5809 - val_mae: 7.0619\n",
            "Epoch 57/100\n",
            "31/31 [==============================] - 1s 14ms/step - loss: 4.7930 - mae: 5.2712 - val_loss: 6.0236 - val_mae: 6.5066\n",
            "Epoch 58/100\n",
            "31/31 [==============================] - 1s 14ms/step - loss: 4.7822 - mae: 5.2583 - val_loss: 6.4772 - val_mae: 6.9547\n",
            "Epoch 59/100\n",
            "31/31 [==============================] - 1s 14ms/step - loss: 4.7731 - mae: 5.2473 - val_loss: 6.6365 - val_mae: 7.1199\n",
            "Epoch 60/100\n",
            "31/31 [==============================] - 1s 20ms/step - loss: 4.7924 - mae: 5.2704 - val_loss: 6.0919 - val_mae: 6.5734\n",
            "Epoch 61/100\n",
            "31/31 [==============================] - 1s 22ms/step - loss: 4.7493 - mae: 5.2256 - val_loss: 5.7161 - val_mae: 6.1946\n",
            "Epoch 62/100\n",
            "31/31 [==============================] - 1s 24ms/step - loss: 4.7426 - mae: 5.2192 - val_loss: 5.8978 - val_mae: 6.3839\n",
            "Epoch 63/100\n",
            "31/31 [==============================] - 1s 19ms/step - loss: 4.7233 - mae: 5.2001 - val_loss: 6.3009 - val_mae: 6.7781\n",
            "Epoch 64/100\n",
            "31/31 [==============================] - 1s 15ms/step - loss: 4.7202 - mae: 5.1984 - val_loss: 6.4995 - val_mae: 6.9817\n",
            "Epoch 65/100\n",
            "31/31 [==============================] - 1s 14ms/step - loss: 4.7004 - mae: 5.1758 - val_loss: 6.0272 - val_mae: 6.5071\n",
            "Epoch 66/100\n",
            "31/31 [==============================] - 1s 14ms/step - loss: 4.7006 - mae: 5.1781 - val_loss: 6.5689 - val_mae: 7.0521\n",
            "Epoch 67/100\n",
            "31/31 [==============================] - 1s 14ms/step - loss: 4.8007 - mae: 5.2752 - val_loss: 5.5997 - val_mae: 6.0803\n",
            "Epoch 68/100\n",
            "31/31 [==============================] - 1s 14ms/step - loss: 4.7422 - mae: 5.2132 - val_loss: 5.9923 - val_mae: 6.4752\n",
            "Epoch 69/100\n",
            "31/31 [==============================] - 1s 14ms/step - loss: 4.6952 - mae: 5.1737 - val_loss: 5.9072 - val_mae: 6.3916\n",
            "Epoch 70/100\n",
            "31/31 [==============================] - 1s 14ms/step - loss: 4.6897 - mae: 5.1690 - val_loss: 6.1737 - val_mae: 6.6502\n",
            "Epoch 71/100\n",
            "31/31 [==============================] - 1s 14ms/step - loss: 4.6973 - mae: 5.1757 - val_loss: 6.2429 - val_mae: 6.7218\n",
            "Epoch 72/100\n",
            "31/31 [==============================] - 1s 13ms/step - loss: 4.7875 - mae: 5.2648 - val_loss: 5.8478 - val_mae: 6.3295\n",
            "Epoch 73/100\n",
            "31/31 [==============================] - 1s 14ms/step - loss: 4.7186 - mae: 5.1982 - val_loss: 6.1943 - val_mae: 6.6714\n",
            "Epoch 74/100\n",
            "31/31 [==============================] - 1s 15ms/step - loss: 4.7701 - mae: 5.2444 - val_loss: 6.2379 - val_mae: 6.7138\n",
            "Epoch 75/100\n",
            "31/31 [==============================] - 1s 14ms/step - loss: 4.6231 - mae: 5.0980 - val_loss: 5.8176 - val_mae: 6.3030\n",
            "Epoch 76/100\n",
            "31/31 [==============================] - 1s 15ms/step - loss: 4.6577 - mae: 5.1341 - val_loss: 5.8878 - val_mae: 6.3689\n",
            "Epoch 77/100\n",
            "31/31 [==============================] - 1s 15ms/step - loss: 4.6433 - mae: 5.1207 - val_loss: 6.3997 - val_mae: 6.8819\n",
            "Epoch 78/100\n",
            "31/31 [==============================] - 1s 13ms/step - loss: 4.6671 - mae: 5.1403 - val_loss: 5.7010 - val_mae: 6.1880\n",
            "Epoch 79/100\n",
            "31/31 [==============================] - 1s 13ms/step - loss: 4.6287 - mae: 5.1066 - val_loss: 5.4735 - val_mae: 5.9509\n",
            "Epoch 80/100\n",
            "31/31 [==============================] - 1s 14ms/step - loss: 4.7449 - mae: 5.2221 - val_loss: 5.4007 - val_mae: 5.8765\n",
            "Epoch 81/100\n",
            "31/31 [==============================] - 1s 17ms/step - loss: 4.6243 - mae: 5.0976 - val_loss: 5.8089 - val_mae: 6.2888\n",
            "Epoch 82/100\n",
            "31/31 [==============================] - 1s 22ms/step - loss: 4.5952 - mae: 5.0724 - val_loss: 6.0914 - val_mae: 6.5713\n",
            "Epoch 83/100\n",
            "31/31 [==============================] - 1s 24ms/step - loss: 4.6374 - mae: 5.1184 - val_loss: 6.0095 - val_mae: 6.4906\n",
            "Epoch 84/100\n",
            "31/31 [==============================] - 1s 24ms/step - loss: 4.6571 - mae: 5.1348 - val_loss: 5.4876 - val_mae: 5.9701\n",
            "Epoch 85/100\n",
            "31/31 [==============================] - 1s 13ms/step - loss: 4.6420 - mae: 5.1238 - val_loss: 5.3295 - val_mae: 5.8027\n",
            "Epoch 86/100\n",
            "31/31 [==============================] - 0s 12ms/step - loss: 4.5881 - mae: 5.0628 - val_loss: 5.4657 - val_mae: 5.9452\n",
            "Epoch 87/100\n",
            "31/31 [==============================] - 0s 13ms/step - loss: 4.6646 - mae: 5.1431 - val_loss: 5.5691 - val_mae: 6.0557\n",
            "Epoch 88/100\n",
            "31/31 [==============================] - 0s 13ms/step - loss: 4.6551 - mae: 5.1288 - val_loss: 5.9598 - val_mae: 6.4393\n",
            "Epoch 89/100\n",
            "31/31 [==============================] - 0s 13ms/step - loss: 4.5733 - mae: 5.0467 - val_loss: 5.4800 - val_mae: 5.9636\n",
            "Epoch 90/100\n",
            "31/31 [==============================] - 0s 13ms/step - loss: 4.6916 - mae: 5.1713 - val_loss: 5.3521 - val_mae: 5.8264\n",
            "Epoch 91/100\n",
            "31/31 [==============================] - 0s 13ms/step - loss: 4.5741 - mae: 5.0509 - val_loss: 6.3290 - val_mae: 6.8111\n",
            "Epoch 92/100\n",
            "31/31 [==============================] - 0s 13ms/step - loss: 4.5814 - mae: 5.0578 - val_loss: 5.3960 - val_mae: 5.8738\n",
            "Epoch 93/100\n",
            "31/31 [==============================] - 1s 13ms/step - loss: 4.6034 - mae: 5.0823 - val_loss: 5.3589 - val_mae: 5.8383\n",
            "Epoch 94/100\n",
            "31/31 [==============================] - 0s 13ms/step - loss: 4.5999 - mae: 5.0736 - val_loss: 5.4122 - val_mae: 5.8919\n",
            "Epoch 95/100\n",
            "31/31 [==============================] - 1s 14ms/step - loss: 4.5694 - mae: 5.0466 - val_loss: 5.2492 - val_mae: 5.7272\n",
            "Epoch 96/100\n",
            "31/31 [==============================] - 1s 15ms/step - loss: 4.6907 - mae: 5.1674 - val_loss: 5.2364 - val_mae: 5.7113\n",
            "Epoch 97/100\n",
            "31/31 [==============================] - 1s 14ms/step - loss: 4.5532 - mae: 5.0284 - val_loss: 6.5683 - val_mae: 7.0501\n",
            "Epoch 98/100\n",
            "31/31 [==============================] - 1s 14ms/step - loss: 4.6564 - mae: 5.1321 - val_loss: 5.2141 - val_mae: 5.6861\n",
            "Epoch 99/100\n",
            "31/31 [==============================] - 1s 13ms/step - loss: 4.5646 - mae: 5.0446 - val_loss: 5.4201 - val_mae: 5.9015\n",
            "Epoch 100/100\n",
            "16/31 [==============>...............] - ETA: 0s - loss: 4.2375 - mae: 4.7057"
          ]
        }
      ],
      "source": [
        "# Reset states generated by Keras\n",
        "tf.keras.backend.clear_session()\n",
        "\n",
        "# Build the model\n",
        "model = tf.keras.models.Sequential([\n",
        "  tf.keras.layers.Lambda(lambda x: tf.expand_dims(x, axis=-1),\n",
        "                      input_shape=[None]),\n",
        "   tf.keras.layers.Bidirectional(tf.keras.layers.LSTM(32, return_sequences=True)),\n",
        "  tf.keras.layers.Bidirectional(tf.keras.layers.LSTM(32)),\n",
        "  tf.keras.layers.Dense(1),\n",
        "  tf.keras.layers.Lambda(lambda x: x * 100.0)\n",
        "])\n",
        "\n",
        "# Set the learning rate\n",
        "learning_rate = 2e-6\n",
        "\n",
        "# Set the optimizer\n",
        "optimizer = tf.keras.optimizers.SGD(learning_rate=learning_rate, momentum=0.9)\n",
        "\n",
        "# Set the training parameters\n",
        "model.compile(loss=tf.keras.losses.Huber(),\n",
        "              optimizer=optimizer,\n",
        "              metrics=[\"mae\"])\n",
        "\n",
        "# Train the model\n",
        "history = model.fit(dataset,epochs=100, validation_data=val_set)"
      ]
    }
  ],
  "metadata": {
    "accelerator": "GPU",
    "colab": {
      "provenance": [],
      "gpuType": "T4",
      "include_colab_link": true
    },
    "kernelspec": {
      "display_name": "Python 3",
      "name": "python3"
    },
    "language_info": {
      "codemirror_mode": {
        "name": "ipython",
        "version": 3
      },
      "file_extension": ".py",
      "mimetype": "text/x-python",
      "name": "python",
      "nbconvert_exporter": "python",
      "pygments_lexer": "ipython3",
      "version": "3.9.13"
    }
  },
  "nbformat": 4,
  "nbformat_minor": 0
}